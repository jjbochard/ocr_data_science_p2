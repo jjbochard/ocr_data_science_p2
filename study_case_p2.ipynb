{
 "cells": [
  {
   "cell_type": "code",
   "execution_count": 2352,
   "id": "9419c5f6-a639-4c3b-9581-b492291bceec",
   "metadata": {},
   "outputs": [],
   "source": [
    "import pandas as pd"
   ]
  },
  {
   "cell_type": "markdown",
   "id": "1e93bcdc-ab77-458a-9431-3d2b9908fe33",
   "metadata": {},
   "source": [
    "# Étude du fichier EdStatsCountry-Series.csv"
   ]
  },
  {
   "cell_type": "markdown",
   "id": "5ca4846e-4f54-4cac-8939-69341536fa38",
   "metadata": {
    "editable": true,
    "slideshow": {
     "slide_type": ""
    },
    "tags": []
   },
   "source": [
    "## Partie 1 : Analyse générale des données"
   ]
  },
  {
   "cell_type": "markdown",
   "id": "855395c9-9b42-4ce3-8a99-8ff1046e6613",
   "metadata": {},
   "source": [
    "### Fichier 1"
   ]
  },
  {
   "cell_type": "code",
   "execution_count": 2353,
   "id": "02e496ae-7273-4392-9a6d-574a283ccb49",
   "metadata": {},
   "outputs": [],
   "source": [
    "df = pd.read_csv('EdStatsCountry-Series.csv')"
   ]
  },
  {
   "cell_type": "code",
   "execution_count": 2354,
   "id": "1b11f0f2-bbc0-4484-bddd-515b841b9711",
   "metadata": {
    "scrolled": true
   },
   "outputs": [
    {
     "data": {
      "text/html": [
       "<div>\n",
       "<style scoped>\n",
       "    .dataframe tbody tr th:only-of-type {\n",
       "        vertical-align: middle;\n",
       "    }\n",
       "\n",
       "    .dataframe tbody tr th {\n",
       "        vertical-align: top;\n",
       "    }\n",
       "\n",
       "    .dataframe thead th {\n",
       "        text-align: right;\n",
       "    }\n",
       "</style>\n",
       "<table border=\"1\" class=\"dataframe\">\n",
       "  <thead>\n",
       "    <tr style=\"text-align: right;\">\n",
       "      <th></th>\n",
       "      <th>CountryCode</th>\n",
       "      <th>SeriesCode</th>\n",
       "      <th>DESCRIPTION</th>\n",
       "      <th>Unnamed: 3</th>\n",
       "    </tr>\n",
       "  </thead>\n",
       "  <tbody>\n",
       "    <tr>\n",
       "      <th>0</th>\n",
       "      <td>ABW</td>\n",
       "      <td>SP.POP.TOTL</td>\n",
       "      <td>Data sources : United Nations World Population...</td>\n",
       "      <td>NaN</td>\n",
       "    </tr>\n",
       "    <tr>\n",
       "      <th>1</th>\n",
       "      <td>ABW</td>\n",
       "      <td>SP.POP.GROW</td>\n",
       "      <td>Data sources: United Nations World Population ...</td>\n",
       "      <td>NaN</td>\n",
       "    </tr>\n",
       "    <tr>\n",
       "      <th>2</th>\n",
       "      <td>AFG</td>\n",
       "      <td>SP.POP.GROW</td>\n",
       "      <td>Data sources: United Nations World Population ...</td>\n",
       "      <td>NaN</td>\n",
       "    </tr>\n",
       "    <tr>\n",
       "      <th>3</th>\n",
       "      <td>AFG</td>\n",
       "      <td>NY.GDP.PCAP.PP.CD</td>\n",
       "      <td>Estimates are based on regression.</td>\n",
       "      <td>NaN</td>\n",
       "    </tr>\n",
       "    <tr>\n",
       "      <th>4</th>\n",
       "      <td>AFG</td>\n",
       "      <td>SP.POP.TOTL</td>\n",
       "      <td>Data sources : United Nations World Population...</td>\n",
       "      <td>NaN</td>\n",
       "    </tr>\n",
       "  </tbody>\n",
       "</table>\n",
       "</div>"
      ],
      "text/plain": [
       "  CountryCode         SeriesCode  \\\n",
       "0         ABW        SP.POP.TOTL   \n",
       "1         ABW        SP.POP.GROW   \n",
       "2         AFG        SP.POP.GROW   \n",
       "3         AFG  NY.GDP.PCAP.PP.CD   \n",
       "4         AFG        SP.POP.TOTL   \n",
       "\n",
       "                                         DESCRIPTION  Unnamed: 3  \n",
       "0  Data sources : United Nations World Population...         NaN  \n",
       "1  Data sources: United Nations World Population ...         NaN  \n",
       "2  Data sources: United Nations World Population ...         NaN  \n",
       "3                 Estimates are based on regression.         NaN  \n",
       "4  Data sources : United Nations World Population...         NaN  "
      ]
     },
     "execution_count": 2354,
     "metadata": {},
     "output_type": "execute_result"
    }
   ],
   "source": [
    "df.head(5)"
   ]
  },
  {
   "cell_type": "code",
   "execution_count": 2355,
   "id": "f3931816-bf30-4007-99e0-ae5bf28d9296",
   "metadata": {},
   "outputs": [
    {
     "data": {
      "text/plain": [
       "(613, 4)"
      ]
     },
     "execution_count": 2355,
     "metadata": {},
     "output_type": "execute_result"
    }
   ],
   "source": [
    "df.shape"
   ]
  },
  {
   "cell_type": "markdown",
   "id": "3700ddc7-2731-48a8-88ec-5614d43b617a",
   "metadata": {},
   "source": [
    "Le fichier contient fichier 613 lignes et 4 colonnes."
   ]
  },
  {
   "cell_type": "code",
   "execution_count": 2356,
   "id": "e35fc008-e436-4d32-a4bb-2d5e055d0fd0",
   "metadata": {},
   "outputs": [
    {
     "data": {
      "text/plain": [
       "CountryCode    0.0\n",
       "SeriesCode     0.0\n",
       "DESCRIPTION    0.0\n",
       "Unnamed: 3     1.0\n",
       "dtype: float64"
      ]
     },
     "execution_count": 2356,
     "metadata": {},
     "output_type": "execute_result"
    }
   ],
   "source": [
    "df.isnull().mean()"
   ]
  },
  {
   "cell_type": "markdown",
   "id": "067f6245-ce45-42db-996d-d2be848716eb",
   "metadata": {},
   "source": [
    "La colonne 'Unnamed: 3' est vide.\n",
    "Il ne manque aucune donnée dans les autres colonnes"
   ]
  },
  {
   "cell_type": "code",
   "execution_count": 2357,
   "id": "6b7e6b14-4ffe-4f25-9963-e255cb6c9685",
   "metadata": {},
   "outputs": [],
   "source": [
    "country_series = df"
   ]
  },
  {
   "cell_type": "markdown",
   "id": "552a8e52-8285-4cac-b17e-e150e1343243",
   "metadata": {},
   "source": [
    "### Fichier 2"
   ]
  },
  {
   "cell_type": "code",
   "execution_count": 2358,
   "id": "bc5415be-0298-40c4-909b-ed2b8937c0bf",
   "metadata": {},
   "outputs": [],
   "source": [
    "df = pd.read_csv('EdStatsCountry.csv')"
   ]
  },
  {
   "cell_type": "code",
   "execution_count": 2359,
   "id": "b08cad7a-ee2a-472d-a8a7-7ae36f5290d4",
   "metadata": {
    "scrolled": true
   },
   "outputs": [
    {
     "data": {
      "text/html": [
       "<div>\n",
       "<style scoped>\n",
       "    .dataframe tbody tr th:only-of-type {\n",
       "        vertical-align: middle;\n",
       "    }\n",
       "\n",
       "    .dataframe tbody tr th {\n",
       "        vertical-align: top;\n",
       "    }\n",
       "\n",
       "    .dataframe thead th {\n",
       "        text-align: right;\n",
       "    }\n",
       "</style>\n",
       "<table border=\"1\" class=\"dataframe\">\n",
       "  <thead>\n",
       "    <tr style=\"text-align: right;\">\n",
       "      <th></th>\n",
       "      <th>Country Code</th>\n",
       "      <th>Short Name</th>\n",
       "      <th>Table Name</th>\n",
       "      <th>Long Name</th>\n",
       "      <th>2-alpha code</th>\n",
       "      <th>Currency Unit</th>\n",
       "      <th>Special Notes</th>\n",
       "      <th>Region</th>\n",
       "      <th>Income Group</th>\n",
       "      <th>WB-2 code</th>\n",
       "      <th>...</th>\n",
       "      <th>IMF data dissemination standard</th>\n",
       "      <th>Latest population census</th>\n",
       "      <th>Latest household survey</th>\n",
       "      <th>Source of most recent Income and expenditure data</th>\n",
       "      <th>Vital registration complete</th>\n",
       "      <th>Latest agricultural census</th>\n",
       "      <th>Latest industrial data</th>\n",
       "      <th>Latest trade data</th>\n",
       "      <th>Latest water withdrawal data</th>\n",
       "      <th>Unnamed: 31</th>\n",
       "    </tr>\n",
       "  </thead>\n",
       "  <tbody>\n",
       "    <tr>\n",
       "      <th>0</th>\n",
       "      <td>ABW</td>\n",
       "      <td>Aruba</td>\n",
       "      <td>Aruba</td>\n",
       "      <td>Aruba</td>\n",
       "      <td>AW</td>\n",
       "      <td>Aruban florin</td>\n",
       "      <td>SNA data for 2000-2011 are updated from offici...</td>\n",
       "      <td>Latin America &amp; Caribbean</td>\n",
       "      <td>High income: nonOECD</td>\n",
       "      <td>AW</td>\n",
       "      <td>...</td>\n",
       "      <td>NaN</td>\n",
       "      <td>2010</td>\n",
       "      <td>NaN</td>\n",
       "      <td>NaN</td>\n",
       "      <td>Yes</td>\n",
       "      <td>NaN</td>\n",
       "      <td>NaN</td>\n",
       "      <td>2012.0</td>\n",
       "      <td>NaN</td>\n",
       "      <td>NaN</td>\n",
       "    </tr>\n",
       "    <tr>\n",
       "      <th>1</th>\n",
       "      <td>AFG</td>\n",
       "      <td>Afghanistan</td>\n",
       "      <td>Afghanistan</td>\n",
       "      <td>Islamic State of Afghanistan</td>\n",
       "      <td>AF</td>\n",
       "      <td>Afghan afghani</td>\n",
       "      <td>Fiscal year end: March 20; reporting period fo...</td>\n",
       "      <td>South Asia</td>\n",
       "      <td>Low income</td>\n",
       "      <td>AF</td>\n",
       "      <td>...</td>\n",
       "      <td>General Data Dissemination System (GDDS)</td>\n",
       "      <td>1979</td>\n",
       "      <td>Multiple Indicator Cluster Survey (MICS), 2010/11</td>\n",
       "      <td>Integrated household survey (IHS), 2008</td>\n",
       "      <td>NaN</td>\n",
       "      <td>2013/14</td>\n",
       "      <td>NaN</td>\n",
       "      <td>2012.0</td>\n",
       "      <td>2000</td>\n",
       "      <td>NaN</td>\n",
       "    </tr>\n",
       "    <tr>\n",
       "      <th>2</th>\n",
       "      <td>AGO</td>\n",
       "      <td>Angola</td>\n",
       "      <td>Angola</td>\n",
       "      <td>People's Republic of Angola</td>\n",
       "      <td>AO</td>\n",
       "      <td>Angolan kwanza</td>\n",
       "      <td>April 2013 database update: Based on IMF data,...</td>\n",
       "      <td>Sub-Saharan Africa</td>\n",
       "      <td>Upper middle income</td>\n",
       "      <td>AO</td>\n",
       "      <td>...</td>\n",
       "      <td>General Data Dissemination System (GDDS)</td>\n",
       "      <td>1970</td>\n",
       "      <td>Malaria Indicator Survey (MIS), 2011</td>\n",
       "      <td>Integrated household survey (IHS), 2008</td>\n",
       "      <td>NaN</td>\n",
       "      <td>2015</td>\n",
       "      <td>NaN</td>\n",
       "      <td>NaN</td>\n",
       "      <td>2005</td>\n",
       "      <td>NaN</td>\n",
       "    </tr>\n",
       "    <tr>\n",
       "      <th>3</th>\n",
       "      <td>ALB</td>\n",
       "      <td>Albania</td>\n",
       "      <td>Albania</td>\n",
       "      <td>Republic of Albania</td>\n",
       "      <td>AL</td>\n",
       "      <td>Albanian lek</td>\n",
       "      <td>NaN</td>\n",
       "      <td>Europe &amp; Central Asia</td>\n",
       "      <td>Upper middle income</td>\n",
       "      <td>AL</td>\n",
       "      <td>...</td>\n",
       "      <td>General Data Dissemination System (GDDS)</td>\n",
       "      <td>2011</td>\n",
       "      <td>Demographic and Health Survey (DHS), 2008/09</td>\n",
       "      <td>Living Standards Measurement Study Survey (LSM...</td>\n",
       "      <td>Yes</td>\n",
       "      <td>2012</td>\n",
       "      <td>2010.0</td>\n",
       "      <td>2012.0</td>\n",
       "      <td>2006</td>\n",
       "      <td>NaN</td>\n",
       "    </tr>\n",
       "    <tr>\n",
       "      <th>4</th>\n",
       "      <td>AND</td>\n",
       "      <td>Andorra</td>\n",
       "      <td>Andorra</td>\n",
       "      <td>Principality of Andorra</td>\n",
       "      <td>AD</td>\n",
       "      <td>Euro</td>\n",
       "      <td>NaN</td>\n",
       "      <td>Europe &amp; Central Asia</td>\n",
       "      <td>High income: nonOECD</td>\n",
       "      <td>AD</td>\n",
       "      <td>...</td>\n",
       "      <td>NaN</td>\n",
       "      <td>2011. Population figures compiled from adminis...</td>\n",
       "      <td>NaN</td>\n",
       "      <td>NaN</td>\n",
       "      <td>Yes</td>\n",
       "      <td>NaN</td>\n",
       "      <td>NaN</td>\n",
       "      <td>2006.0</td>\n",
       "      <td>NaN</td>\n",
       "      <td>NaN</td>\n",
       "    </tr>\n",
       "  </tbody>\n",
       "</table>\n",
       "<p>5 rows × 32 columns</p>\n",
       "</div>"
      ],
      "text/plain": [
       "  Country Code   Short Name   Table Name                     Long Name  \\\n",
       "0          ABW        Aruba        Aruba                         Aruba   \n",
       "1          AFG  Afghanistan  Afghanistan  Islamic State of Afghanistan   \n",
       "2          AGO       Angola       Angola   People's Republic of Angola   \n",
       "3          ALB      Albania      Albania           Republic of Albania   \n",
       "4          AND      Andorra      Andorra       Principality of Andorra   \n",
       "\n",
       "  2-alpha code   Currency Unit  \\\n",
       "0           AW   Aruban florin   \n",
       "1           AF  Afghan afghani   \n",
       "2           AO  Angolan kwanza   \n",
       "3           AL    Albanian lek   \n",
       "4           AD            Euro   \n",
       "\n",
       "                                       Special Notes  \\\n",
       "0  SNA data for 2000-2011 are updated from offici...   \n",
       "1  Fiscal year end: March 20; reporting period fo...   \n",
       "2  April 2013 database update: Based on IMF data,...   \n",
       "3                                                NaN   \n",
       "4                                                NaN   \n",
       "\n",
       "                      Region          Income Group WB-2 code  ...  \\\n",
       "0  Latin America & Caribbean  High income: nonOECD        AW  ...   \n",
       "1                 South Asia            Low income        AF  ...   \n",
       "2         Sub-Saharan Africa   Upper middle income        AO  ...   \n",
       "3      Europe & Central Asia   Upper middle income        AL  ...   \n",
       "4      Europe & Central Asia  High income: nonOECD        AD  ...   \n",
       "\n",
       "            IMF data dissemination standard  \\\n",
       "0                                       NaN   \n",
       "1  General Data Dissemination System (GDDS)   \n",
       "2  General Data Dissemination System (GDDS)   \n",
       "3  General Data Dissemination System (GDDS)   \n",
       "4                                       NaN   \n",
       "\n",
       "                            Latest population census  \\\n",
       "0                                               2010   \n",
       "1                                               1979   \n",
       "2                                               1970   \n",
       "3                                               2011   \n",
       "4  2011. Population figures compiled from adminis...   \n",
       "\n",
       "                             Latest household survey  \\\n",
       "0                                                NaN   \n",
       "1  Multiple Indicator Cluster Survey (MICS), 2010/11   \n",
       "2               Malaria Indicator Survey (MIS), 2011   \n",
       "3       Demographic and Health Survey (DHS), 2008/09   \n",
       "4                                                NaN   \n",
       "\n",
       "   Source of most recent Income and expenditure data  \\\n",
       "0                                                NaN   \n",
       "1            Integrated household survey (IHS), 2008   \n",
       "2            Integrated household survey (IHS), 2008   \n",
       "3  Living Standards Measurement Study Survey (LSM...   \n",
       "4                                                NaN   \n",
       "\n",
       "  Vital registration complete Latest agricultural census  \\\n",
       "0                         Yes                        NaN   \n",
       "1                         NaN                    2013/14   \n",
       "2                         NaN                       2015   \n",
       "3                         Yes                       2012   \n",
       "4                         Yes                        NaN   \n",
       "\n",
       "  Latest industrial data Latest trade data Latest water withdrawal data  \\\n",
       "0                    NaN            2012.0                          NaN   \n",
       "1                    NaN            2012.0                         2000   \n",
       "2                    NaN               NaN                         2005   \n",
       "3                 2010.0            2012.0                         2006   \n",
       "4                    NaN            2006.0                          NaN   \n",
       "\n",
       "  Unnamed: 31  \n",
       "0         NaN  \n",
       "1         NaN  \n",
       "2         NaN  \n",
       "3         NaN  \n",
       "4         NaN  \n",
       "\n",
       "[5 rows x 32 columns]"
      ]
     },
     "execution_count": 2359,
     "metadata": {},
     "output_type": "execute_result"
    }
   ],
   "source": [
    "df.head(5)"
   ]
  },
  {
   "cell_type": "code",
   "execution_count": 2360,
   "id": "0eb804c2-baf9-4783-8667-0eff7252b828",
   "metadata": {},
   "outputs": [
    {
     "data": {
      "text/plain": [
       "(241, 32)"
      ]
     },
     "execution_count": 2360,
     "metadata": {},
     "output_type": "execute_result"
    }
   ],
   "source": [
    "df.shape"
   ]
  },
  {
   "cell_type": "markdown",
   "id": "a2fd794d-c80a-40a3-a988-f94e94e7d5c9",
   "metadata": {},
   "source": [
    "Le fichier contient fichier 241 lignes et 32 colonnes."
   ]
  },
  {
   "cell_type": "code",
   "execution_count": 2361,
   "id": "cc814869-216f-4955-8873-c5cb181162d5",
   "metadata": {},
   "outputs": [
    {
     "data": {
      "text/plain": [
       "Country Code                                         0.000000\n",
       "Short Name                                           0.000000\n",
       "Table Name                                           0.000000\n",
       "Long Name                                            0.000000\n",
       "2-alpha code                                         0.012448\n",
       "Currency Unit                                        0.107884\n",
       "Special Notes                                        0.398340\n",
       "Region                                               0.112033\n",
       "Income Group                                         0.112033\n",
       "WB-2 code                                            0.004149\n",
       "National accounts base year                          0.149378\n",
       "National accounts reference year                     0.867220\n",
       "SNA price valuation                                  0.182573\n",
       "Lending category                                     0.402490\n",
       "Other groups                                         0.759336\n",
       "System of National Accounts                          0.107884\n",
       "Alternative conversion factor                        0.804979\n",
       "PPP survey year                                      0.398340\n",
       "Balance of Payments Manual in use                    0.248963\n",
       "External debt Reporting status                       0.485477\n",
       "System of trade                                      0.170124\n",
       "Government Accounting concept                        0.331950\n",
       "IMF data dissemination standard                      0.248963\n",
       "Latest population census                             0.116183\n",
       "Latest household survey                              0.414938\n",
       "Source of most recent Income and expenditure data    0.336100\n",
       "Vital registration complete                          0.539419\n",
       "Latest agricultural census                           0.410788\n",
       "Latest industrial data                               0.556017\n",
       "Latest trade data                                    0.232365\n",
       "Latest water withdrawal data                         0.257261\n",
       "Unnamed: 31                                          1.000000\n",
       "dtype: float64"
      ]
     },
     "execution_count": 2361,
     "metadata": {},
     "output_type": "execute_result"
    }
   ],
   "source": [
    "mean_null_by_columns_df = df.isnull().mean()\n",
    "mean_null_by_columns_df"
   ]
  },
  {
   "cell_type": "code",
   "execution_count": 2362,
   "id": "d91bbc07-c15d-4822-ac5e-68e12f304ae6",
   "metadata": {},
   "outputs": [
    {
     "data": {
      "text/plain": [
       "Country Code    0.0\n",
       "Short Name      0.0\n",
       "Table Name      0.0\n",
       "Long Name       0.0\n",
       "dtype: float64"
      ]
     },
     "execution_count": 2362,
     "metadata": {},
     "output_type": "execute_result"
    }
   ],
   "source": [
    "columns_with_no_null = mean_null_by_columns_df[mean_null_by_columns_df == 0.0]\n",
    "columns_with_no_null"
   ]
  },
  {
   "cell_type": "markdown",
   "id": "4cdf2be2-7cb7-4a9d-9bfe-c5f13e64255a",
   "metadata": {},
   "source": [
    "Aucune données n'est manquante dans les colonnes ci-dessus"
   ]
  },
  {
   "cell_type": "code",
   "execution_count": 2363,
   "id": "c309afc0-e695-4759-aeb2-76a4c430cb2b",
   "metadata": {
    "scrolled": true
   },
   "outputs": [
    {
     "data": {
      "text/plain": [
       "Unnamed: 31    1.0\n",
       "dtype: float64"
      ]
     },
     "execution_count": 2363,
     "metadata": {},
     "output_type": "execute_result"
    }
   ],
   "source": [
    "columns_with_only_null = mean_null_by_columns_df[mean_null_by_columns_df == 1.0]\n",
    "columns_with_only_null"
   ]
  },
  {
   "cell_type": "markdown",
   "id": "6dd9db38-0fef-4346-873d-f1c31a19140d",
   "metadata": {},
   "source": [
    "La colonne ci-dessus est vide"
   ]
  },
  {
   "cell_type": "code",
   "execution_count": 2364,
   "id": "11020d7a-652f-4c26-b8e0-47e953e66889",
   "metadata": {},
   "outputs": [],
   "source": [
    "countries = df"
   ]
  },
  {
   "cell_type": "markdown",
   "id": "1dc209fc-020f-4e80-a11a-57fbb6dc9a75",
   "metadata": {},
   "source": [
    "### Fichier 3"
   ]
  },
  {
   "cell_type": "code",
   "execution_count": 2365,
   "id": "8e7046fe-57a6-451f-97b2-7348a6fb419e",
   "metadata": {},
   "outputs": [],
   "source": [
    "df = pd.read_csv('EdStatsData.csv')"
   ]
  },
  {
   "cell_type": "code",
   "execution_count": 2366,
   "id": "3e88b7b0-aacb-48df-a151-f24c97cc870e",
   "metadata": {},
   "outputs": [
    {
     "data": {
      "text/plain": [
       "Index(['Country Name', 'Country Code', 'Indicator Name', 'Indicator Code',\n",
       "       '1970', '1971', '1972', '1973', '1974', '1975', '1976', '1977', '1978',\n",
       "       '1979', '1980', '1981', '1982', '1983', '1984', '1985', '1986', '1987',\n",
       "       '1988', '1989', '1990', '1991', '1992', '1993', '1994', '1995', '1996',\n",
       "       '1997', '1998', '1999', '2000', '2001', '2002', '2003', '2004', '2005',\n",
       "       '2006', '2007', '2008', '2009', '2010', '2011', '2012', '2013', '2014',\n",
       "       '2015', '2016', '2017', '2020', '2025', '2030', '2035', '2040', '2045',\n",
       "       '2050', '2055', '2060', '2065', '2070', '2075', '2080', '2085', '2090',\n",
       "       '2095', '2100', 'Unnamed: 69'],\n",
       "      dtype='object')"
      ]
     },
     "execution_count": 2366,
     "metadata": {},
     "output_type": "execute_result"
    }
   ],
   "source": [
    "df.columns"
   ]
  },
  {
   "cell_type": "code",
   "execution_count": 2367,
   "id": "fa55fee2-288b-41b3-b3d8-be9b27f327fa",
   "metadata": {
    "scrolled": true
   },
   "outputs": [
    {
     "data": {
      "text/html": [
       "<div>\n",
       "<style scoped>\n",
       "    .dataframe tbody tr th:only-of-type {\n",
       "        vertical-align: middle;\n",
       "    }\n",
       "\n",
       "    .dataframe tbody tr th {\n",
       "        vertical-align: top;\n",
       "    }\n",
       "\n",
       "    .dataframe thead th {\n",
       "        text-align: right;\n",
       "    }\n",
       "</style>\n",
       "<table border=\"1\" class=\"dataframe\">\n",
       "  <thead>\n",
       "    <tr style=\"text-align: right;\">\n",
       "      <th></th>\n",
       "      <th>Country Name</th>\n",
       "      <th>Country Code</th>\n",
       "      <th>Indicator Name</th>\n",
       "      <th>Indicator Code</th>\n",
       "      <th>1970</th>\n",
       "      <th>1971</th>\n",
       "      <th>1972</th>\n",
       "      <th>1973</th>\n",
       "      <th>1974</th>\n",
       "      <th>1975</th>\n",
       "      <th>...</th>\n",
       "      <th>2060</th>\n",
       "      <th>2065</th>\n",
       "      <th>2070</th>\n",
       "      <th>2075</th>\n",
       "      <th>2080</th>\n",
       "      <th>2085</th>\n",
       "      <th>2090</th>\n",
       "      <th>2095</th>\n",
       "      <th>2100</th>\n",
       "      <th>Unnamed: 69</th>\n",
       "    </tr>\n",
       "  </thead>\n",
       "  <tbody>\n",
       "    <tr>\n",
       "      <th>0</th>\n",
       "      <td>Arab World</td>\n",
       "      <td>ARB</td>\n",
       "      <td>Adjusted net enrolment rate, lower secondary, ...</td>\n",
       "      <td>UIS.NERA.2</td>\n",
       "      <td>NaN</td>\n",
       "      <td>NaN</td>\n",
       "      <td>NaN</td>\n",
       "      <td>NaN</td>\n",
       "      <td>NaN</td>\n",
       "      <td>NaN</td>\n",
       "      <td>...</td>\n",
       "      <td>NaN</td>\n",
       "      <td>NaN</td>\n",
       "      <td>NaN</td>\n",
       "      <td>NaN</td>\n",
       "      <td>NaN</td>\n",
       "      <td>NaN</td>\n",
       "      <td>NaN</td>\n",
       "      <td>NaN</td>\n",
       "      <td>NaN</td>\n",
       "      <td>NaN</td>\n",
       "    </tr>\n",
       "    <tr>\n",
       "      <th>1</th>\n",
       "      <td>Arab World</td>\n",
       "      <td>ARB</td>\n",
       "      <td>Adjusted net enrolment rate, lower secondary, ...</td>\n",
       "      <td>UIS.NERA.2.F</td>\n",
       "      <td>NaN</td>\n",
       "      <td>NaN</td>\n",
       "      <td>NaN</td>\n",
       "      <td>NaN</td>\n",
       "      <td>NaN</td>\n",
       "      <td>NaN</td>\n",
       "      <td>...</td>\n",
       "      <td>NaN</td>\n",
       "      <td>NaN</td>\n",
       "      <td>NaN</td>\n",
       "      <td>NaN</td>\n",
       "      <td>NaN</td>\n",
       "      <td>NaN</td>\n",
       "      <td>NaN</td>\n",
       "      <td>NaN</td>\n",
       "      <td>NaN</td>\n",
       "      <td>NaN</td>\n",
       "    </tr>\n",
       "    <tr>\n",
       "      <th>2</th>\n",
       "      <td>Arab World</td>\n",
       "      <td>ARB</td>\n",
       "      <td>Adjusted net enrolment rate, lower secondary, ...</td>\n",
       "      <td>UIS.NERA.2.GPI</td>\n",
       "      <td>NaN</td>\n",
       "      <td>NaN</td>\n",
       "      <td>NaN</td>\n",
       "      <td>NaN</td>\n",
       "      <td>NaN</td>\n",
       "      <td>NaN</td>\n",
       "      <td>...</td>\n",
       "      <td>NaN</td>\n",
       "      <td>NaN</td>\n",
       "      <td>NaN</td>\n",
       "      <td>NaN</td>\n",
       "      <td>NaN</td>\n",
       "      <td>NaN</td>\n",
       "      <td>NaN</td>\n",
       "      <td>NaN</td>\n",
       "      <td>NaN</td>\n",
       "      <td>NaN</td>\n",
       "    </tr>\n",
       "    <tr>\n",
       "      <th>3</th>\n",
       "      <td>Arab World</td>\n",
       "      <td>ARB</td>\n",
       "      <td>Adjusted net enrolment rate, lower secondary, ...</td>\n",
       "      <td>UIS.NERA.2.M</td>\n",
       "      <td>NaN</td>\n",
       "      <td>NaN</td>\n",
       "      <td>NaN</td>\n",
       "      <td>NaN</td>\n",
       "      <td>NaN</td>\n",
       "      <td>NaN</td>\n",
       "      <td>...</td>\n",
       "      <td>NaN</td>\n",
       "      <td>NaN</td>\n",
       "      <td>NaN</td>\n",
       "      <td>NaN</td>\n",
       "      <td>NaN</td>\n",
       "      <td>NaN</td>\n",
       "      <td>NaN</td>\n",
       "      <td>NaN</td>\n",
       "      <td>NaN</td>\n",
       "      <td>NaN</td>\n",
       "    </tr>\n",
       "    <tr>\n",
       "      <th>4</th>\n",
       "      <td>Arab World</td>\n",
       "      <td>ARB</td>\n",
       "      <td>Adjusted net enrolment rate, primary, both sex...</td>\n",
       "      <td>SE.PRM.TENR</td>\n",
       "      <td>54.822121</td>\n",
       "      <td>54.894138</td>\n",
       "      <td>56.209438</td>\n",
       "      <td>57.267109</td>\n",
       "      <td>57.991138</td>\n",
       "      <td>59.36554</td>\n",
       "      <td>...</td>\n",
       "      <td>NaN</td>\n",
       "      <td>NaN</td>\n",
       "      <td>NaN</td>\n",
       "      <td>NaN</td>\n",
       "      <td>NaN</td>\n",
       "      <td>NaN</td>\n",
       "      <td>NaN</td>\n",
       "      <td>NaN</td>\n",
       "      <td>NaN</td>\n",
       "      <td>NaN</td>\n",
       "    </tr>\n",
       "  </tbody>\n",
       "</table>\n",
       "<p>5 rows × 70 columns</p>\n",
       "</div>"
      ],
      "text/plain": [
       "  Country Name Country Code  \\\n",
       "0   Arab World          ARB   \n",
       "1   Arab World          ARB   \n",
       "2   Arab World          ARB   \n",
       "3   Arab World          ARB   \n",
       "4   Arab World          ARB   \n",
       "\n",
       "                                      Indicator Name  Indicator Code  \\\n",
       "0  Adjusted net enrolment rate, lower secondary, ...      UIS.NERA.2   \n",
       "1  Adjusted net enrolment rate, lower secondary, ...    UIS.NERA.2.F   \n",
       "2  Adjusted net enrolment rate, lower secondary, ...  UIS.NERA.2.GPI   \n",
       "3  Adjusted net enrolment rate, lower secondary, ...    UIS.NERA.2.M   \n",
       "4  Adjusted net enrolment rate, primary, both sex...     SE.PRM.TENR   \n",
       "\n",
       "        1970       1971       1972       1973       1974      1975  ...  2060  \\\n",
       "0        NaN        NaN        NaN        NaN        NaN       NaN  ...   NaN   \n",
       "1        NaN        NaN        NaN        NaN        NaN       NaN  ...   NaN   \n",
       "2        NaN        NaN        NaN        NaN        NaN       NaN  ...   NaN   \n",
       "3        NaN        NaN        NaN        NaN        NaN       NaN  ...   NaN   \n",
       "4  54.822121  54.894138  56.209438  57.267109  57.991138  59.36554  ...   NaN   \n",
       "\n",
       "   2065  2070  2075  2080  2085  2090  2095  2100  Unnamed: 69  \n",
       "0   NaN   NaN   NaN   NaN   NaN   NaN   NaN   NaN          NaN  \n",
       "1   NaN   NaN   NaN   NaN   NaN   NaN   NaN   NaN          NaN  \n",
       "2   NaN   NaN   NaN   NaN   NaN   NaN   NaN   NaN          NaN  \n",
       "3   NaN   NaN   NaN   NaN   NaN   NaN   NaN   NaN          NaN  \n",
       "4   NaN   NaN   NaN   NaN   NaN   NaN   NaN   NaN          NaN  \n",
       "\n",
       "[5 rows x 70 columns]"
      ]
     },
     "execution_count": 2367,
     "metadata": {},
     "output_type": "execute_result"
    }
   ],
   "source": [
    "df.head(5)"
   ]
  },
  {
   "cell_type": "code",
   "execution_count": 2368,
   "id": "223aa8c8-6538-48e6-b5fe-231227add850",
   "metadata": {},
   "outputs": [
    {
     "data": {
      "text/plain": [
       "(886930, 70)"
      ]
     },
     "execution_count": 2368,
     "metadata": {},
     "output_type": "execute_result"
    }
   ],
   "source": [
    "df.shape"
   ]
  },
  {
   "cell_type": "markdown",
   "id": "44a47fc6-f502-4d23-af96-dbb5a8f7f904",
   "metadata": {},
   "source": [
    "Le fichier contient fichier 886 930 lignes et 70 colonnes."
   ]
  },
  {
   "cell_type": "code",
   "execution_count": 2369,
   "id": "7e4f77c8-1db5-4a4b-80b1-4f58055c9341",
   "metadata": {},
   "outputs": [
    {
     "data": {
      "text/plain": [
       "Country Name      0.000000\n",
       "Country Code      0.000000\n",
       "Indicator Name    0.000000\n",
       "Indicator Code    0.000000\n",
       "1970              0.918496\n",
       "1971              0.959933\n",
       "1972              0.959840\n",
       "1973              0.959924\n",
       "1974              0.959715\n",
       "1975              0.901564\n",
       "1976              0.957738\n",
       "1977              0.957636\n",
       "1978              0.957634\n",
       "1979              0.958498\n",
       "1980              0.899516\n",
       "1981              0.956280\n",
       "1982              0.957707\n",
       "1983              0.956637\n",
       "1984              0.956472\n",
       "1985              0.898193\n",
       "1986              0.955609\n",
       "1987              0.956433\n",
       "1988              0.956533\n",
       "1989              0.957674\n",
       "1990              0.859735\n",
       "1991              0.916073\n",
       "1992              0.914826\n",
       "1993              0.914545\n",
       "1994              0.912663\n",
       "1995              0.851892\n",
       "1996              0.913401\n",
       "1997              0.917183\n",
       "1998              0.904261\n",
       "1999              0.866011\n",
       "2000              0.800801\n",
       "2001              0.860745\n",
       "2002              0.859961\n",
       "2003              0.853018\n",
       "2004              0.854764\n",
       "2005              0.792421\n",
       "2006              0.841800\n",
       "2007              0.845228\n",
       "2008              0.848481\n",
       "2009              0.839775\n",
       "2010              0.726650\n",
       "2011              0.835374\n",
       "2012              0.833962\n",
       "2013              0.844961\n",
       "2014              0.871705\n",
       "2015              0.852234\n",
       "2016              0.981442\n",
       "2017              0.999839\n",
       "2020              0.942007\n",
       "2025              0.942007\n",
       "2030              0.942007\n",
       "2035              0.942007\n",
       "2040              0.942007\n",
       "2045              0.942007\n",
       "2050              0.942007\n",
       "2055              0.942007\n",
       "2060              0.942007\n",
       "2065              0.942007\n",
       "2070              0.942007\n",
       "2075              0.942007\n",
       "2080              0.942007\n",
       "2085              0.942007\n",
       "2090              0.942007\n",
       "2095              0.942007\n",
       "2100              0.942007\n",
       "Unnamed: 69       1.000000\n",
       "dtype: float64"
      ]
     },
     "execution_count": 2369,
     "metadata": {},
     "output_type": "execute_result"
    }
   ],
   "source": [
    "mean_null_by_columns_df = df.isnull().mean()\n",
    "mean_null_by_columns_df"
   ]
  },
  {
   "cell_type": "code",
   "execution_count": 2370,
   "id": "058ea4a8-479f-4859-b2e4-e3f87cf714bb",
   "metadata": {},
   "outputs": [
    {
     "data": {
      "text/plain": [
       "Country Name      0.0\n",
       "Country Code      0.0\n",
       "Indicator Name    0.0\n",
       "Indicator Code    0.0\n",
       "dtype: float64"
      ]
     },
     "execution_count": 2370,
     "metadata": {},
     "output_type": "execute_result"
    }
   ],
   "source": [
    "columns_with_no_null = mean_null_by_columns_df[mean_null_by_columns_df == 0.0]\n",
    "columns_with_no_null"
   ]
  },
  {
   "cell_type": "markdown",
   "id": "55c90211-cde6-4dcc-b33a-04f101b222b5",
   "metadata": {},
   "source": [
    "Aucune données n'est manquante dans les colonnes ci-dessus"
   ]
  },
  {
   "cell_type": "code",
   "execution_count": 2371,
   "id": "a80c9a48-2855-4c8b-91fc-7f639e657247",
   "metadata": {},
   "outputs": [
    {
     "data": {
      "text/plain": [
       "Unnamed: 69    1.0\n",
       "dtype: float64"
      ]
     },
     "execution_count": 2371,
     "metadata": {},
     "output_type": "execute_result"
    }
   ],
   "source": [
    "columns_with_only_null = mean_null_by_columns_df[mean_null_by_columns_df == 1.0]\n",
    "columns_with_only_null"
   ]
  },
  {
   "cell_type": "markdown",
   "id": "51da83ee-1378-4cf1-b223-1f91ca8d5d85",
   "metadata": {},
   "source": [
    "La colonne ci-dessus est vide"
   ]
  },
  {
   "cell_type": "code",
   "execution_count": 2372,
   "id": "4fa85c5d-5685-40a6-a214-ef921a0ce8b0",
   "metadata": {
    "editable": true,
    "slideshow": {
     "slide_type": ""
    },
    "tags": []
   },
   "outputs": [],
   "source": [
    "stats = df"
   ]
  },
  {
   "cell_type": "markdown",
   "id": "b9a2ab67-0968-4397-8cdd-6a56f6e8a0b4",
   "metadata": {},
   "source": [
    "### Fichier 4"
   ]
  },
  {
   "cell_type": "code",
   "execution_count": 2373,
   "id": "e073e7ca-ca4f-44ae-815c-774bcaca483c",
   "metadata": {},
   "outputs": [],
   "source": [
    "df = pd.read_csv('EdStatsFootNote.csv')"
   ]
  },
  {
   "cell_type": "code",
   "execution_count": 2374,
   "id": "d9b1d679-176a-4b23-bbbb-cd77e0f4a86a",
   "metadata": {
    "scrolled": true
   },
   "outputs": [
    {
     "data": {
      "text/html": [
       "<div>\n",
       "<style scoped>\n",
       "    .dataframe tbody tr th:only-of-type {\n",
       "        vertical-align: middle;\n",
       "    }\n",
       "\n",
       "    .dataframe tbody tr th {\n",
       "        vertical-align: top;\n",
       "    }\n",
       "\n",
       "    .dataframe thead th {\n",
       "        text-align: right;\n",
       "    }\n",
       "</style>\n",
       "<table border=\"1\" class=\"dataframe\">\n",
       "  <thead>\n",
       "    <tr style=\"text-align: right;\">\n",
       "      <th></th>\n",
       "      <th>CountryCode</th>\n",
       "      <th>SeriesCode</th>\n",
       "      <th>Year</th>\n",
       "      <th>DESCRIPTION</th>\n",
       "      <th>Unnamed: 4</th>\n",
       "    </tr>\n",
       "  </thead>\n",
       "  <tbody>\n",
       "    <tr>\n",
       "      <th>0</th>\n",
       "      <td>ABW</td>\n",
       "      <td>SE.PRE.ENRL.FE</td>\n",
       "      <td>YR2001</td>\n",
       "      <td>Country estimation.</td>\n",
       "      <td>NaN</td>\n",
       "    </tr>\n",
       "    <tr>\n",
       "      <th>1</th>\n",
       "      <td>ABW</td>\n",
       "      <td>SE.TER.TCHR.FE</td>\n",
       "      <td>YR2005</td>\n",
       "      <td>Country estimation.</td>\n",
       "      <td>NaN</td>\n",
       "    </tr>\n",
       "    <tr>\n",
       "      <th>2</th>\n",
       "      <td>ABW</td>\n",
       "      <td>SE.PRE.TCHR.FE</td>\n",
       "      <td>YR2000</td>\n",
       "      <td>Country estimation.</td>\n",
       "      <td>NaN</td>\n",
       "    </tr>\n",
       "    <tr>\n",
       "      <th>3</th>\n",
       "      <td>ABW</td>\n",
       "      <td>SE.SEC.ENRL.GC</td>\n",
       "      <td>YR2004</td>\n",
       "      <td>Country estimation.</td>\n",
       "      <td>NaN</td>\n",
       "    </tr>\n",
       "    <tr>\n",
       "      <th>4</th>\n",
       "      <td>ABW</td>\n",
       "      <td>SE.PRE.TCHR</td>\n",
       "      <td>YR2006</td>\n",
       "      <td>Country estimation.</td>\n",
       "      <td>NaN</td>\n",
       "    </tr>\n",
       "  </tbody>\n",
       "</table>\n",
       "</div>"
      ],
      "text/plain": [
       "  CountryCode      SeriesCode    Year          DESCRIPTION  Unnamed: 4\n",
       "0         ABW  SE.PRE.ENRL.FE  YR2001  Country estimation.         NaN\n",
       "1         ABW  SE.TER.TCHR.FE  YR2005  Country estimation.         NaN\n",
       "2         ABW  SE.PRE.TCHR.FE  YR2000  Country estimation.         NaN\n",
       "3         ABW  SE.SEC.ENRL.GC  YR2004  Country estimation.         NaN\n",
       "4         ABW     SE.PRE.TCHR  YR2006  Country estimation.         NaN"
      ]
     },
     "execution_count": 2374,
     "metadata": {},
     "output_type": "execute_result"
    }
   ],
   "source": [
    "df.head(5)"
   ]
  },
  {
   "cell_type": "code",
   "execution_count": 2375,
   "id": "56dd8549-1a83-4b96-9853-baa1d2a9c286",
   "metadata": {},
   "outputs": [
    {
     "data": {
      "text/plain": [
       "(643638, 5)"
      ]
     },
     "execution_count": 2375,
     "metadata": {},
     "output_type": "execute_result"
    }
   ],
   "source": [
    "df.shape"
   ]
  },
  {
   "cell_type": "markdown",
   "id": "2a4e331a-5987-497e-a1eb-4e072dc33baa",
   "metadata": {},
   "source": [
    "Le fichier contient fichier 643638 lignes et 5 colonnes."
   ]
  },
  {
   "cell_type": "code",
   "execution_count": 2376,
   "id": "55a15028-c504-4941-aa64-4b4ef253f236",
   "metadata": {
    "scrolled": true
   },
   "outputs": [
    {
     "data": {
      "text/plain": [
       "CountryCode    0.0\n",
       "SeriesCode     0.0\n",
       "Year           0.0\n",
       "DESCRIPTION    0.0\n",
       "Unnamed: 4     1.0\n",
       "dtype: float64"
      ]
     },
     "execution_count": 2376,
     "metadata": {},
     "output_type": "execute_result"
    }
   ],
   "source": [
    "mean_null_by_columns_df = df.isnull().mean()\n",
    "mean_null_by_columns_df"
   ]
  },
  {
   "cell_type": "code",
   "execution_count": 2377,
   "id": "2e21437f-4343-4075-b631-734d08a2404d",
   "metadata": {},
   "outputs": [
    {
     "data": {
      "text/plain": [
       "CountryCode    0.0\n",
       "SeriesCode     0.0\n",
       "Year           0.0\n",
       "DESCRIPTION    0.0\n",
       "dtype: float64"
      ]
     },
     "execution_count": 2377,
     "metadata": {},
     "output_type": "execute_result"
    }
   ],
   "source": [
    "columns_with_no_null = mean_null_by_columns_df[mean_null_by_columns_df == 0.0]\n",
    "columns_with_no_null"
   ]
  },
  {
   "cell_type": "markdown",
   "id": "aa0c0a8a-2e92-405a-b0a4-e32b6b239e0b",
   "metadata": {},
   "source": [
    "Aucune données n'est manquante dans les colonnes ci-dessus"
   ]
  },
  {
   "cell_type": "code",
   "execution_count": 2378,
   "id": "05bc813d-2448-4275-8240-7830cb7aa89f",
   "metadata": {},
   "outputs": [
    {
     "data": {
      "text/plain": [
       "Unnamed: 4    1.0\n",
       "dtype: float64"
      ]
     },
     "execution_count": 2378,
     "metadata": {},
     "output_type": "execute_result"
    }
   ],
   "source": [
    "columns_with_only_null = mean_null_by_columns_df[mean_null_by_columns_df == 1.0]\n",
    "columns_with_only_null"
   ]
  },
  {
   "cell_type": "markdown",
   "id": "83209b6d-31f8-40d4-813b-575f3a2d3c3d",
   "metadata": {},
   "source": [
    "La colonne ci-dessus est vide"
   ]
  },
  {
   "cell_type": "code",
   "execution_count": 2379,
   "id": "7af3e67d-9be2-4e94-a413-0f9390f85370",
   "metadata": {},
   "outputs": [],
   "source": [
    "foot_note = df"
   ]
  },
  {
   "cell_type": "markdown",
   "id": "332d5bd4-497d-4492-ad6a-01b13d750e30",
   "metadata": {},
   "source": [
    "### Fichier 5"
   ]
  },
  {
   "cell_type": "code",
   "execution_count": 2380,
   "id": "c16f2507-6b3f-4596-87dc-3f070471e031",
   "metadata": {},
   "outputs": [],
   "source": [
    "df = pd.read_csv('EdStatsSeries.csv')"
   ]
  },
  {
   "cell_type": "code",
   "execution_count": 2381,
   "id": "aebdbee3-61fe-4199-862f-28538d5b88dd",
   "metadata": {
    "scrolled": true
   },
   "outputs": [
    {
     "data": {
      "text/html": [
       "<div>\n",
       "<style scoped>\n",
       "    .dataframe tbody tr th:only-of-type {\n",
       "        vertical-align: middle;\n",
       "    }\n",
       "\n",
       "    .dataframe tbody tr th {\n",
       "        vertical-align: top;\n",
       "    }\n",
       "\n",
       "    .dataframe thead th {\n",
       "        text-align: right;\n",
       "    }\n",
       "</style>\n",
       "<table border=\"1\" class=\"dataframe\">\n",
       "  <thead>\n",
       "    <tr style=\"text-align: right;\">\n",
       "      <th></th>\n",
       "      <th>Series Code</th>\n",
       "      <th>Topic</th>\n",
       "      <th>Indicator Name</th>\n",
       "      <th>Short definition</th>\n",
       "      <th>Long definition</th>\n",
       "      <th>Unit of measure</th>\n",
       "      <th>Periodicity</th>\n",
       "      <th>Base Period</th>\n",
       "      <th>Other notes</th>\n",
       "      <th>Aggregation method</th>\n",
       "      <th>...</th>\n",
       "      <th>Notes from original source</th>\n",
       "      <th>General comments</th>\n",
       "      <th>Source</th>\n",
       "      <th>Statistical concept and methodology</th>\n",
       "      <th>Development relevance</th>\n",
       "      <th>Related source links</th>\n",
       "      <th>Other web links</th>\n",
       "      <th>Related indicators</th>\n",
       "      <th>License Type</th>\n",
       "      <th>Unnamed: 20</th>\n",
       "    </tr>\n",
       "  </thead>\n",
       "  <tbody>\n",
       "    <tr>\n",
       "      <th>0</th>\n",
       "      <td>BAR.NOED.1519.FE.ZS</td>\n",
       "      <td>Attainment</td>\n",
       "      <td>Barro-Lee: Percentage of female population age...</td>\n",
       "      <td>Percentage of female population age 15-19 with...</td>\n",
       "      <td>Percentage of female population age 15-19 with...</td>\n",
       "      <td>NaN</td>\n",
       "      <td>NaN</td>\n",
       "      <td>NaN</td>\n",
       "      <td>NaN</td>\n",
       "      <td>NaN</td>\n",
       "      <td>...</td>\n",
       "      <td>NaN</td>\n",
       "      <td>NaN</td>\n",
       "      <td>Robert J. Barro and Jong-Wha Lee: http://www.b...</td>\n",
       "      <td>NaN</td>\n",
       "      <td>NaN</td>\n",
       "      <td>NaN</td>\n",
       "      <td>NaN</td>\n",
       "      <td>NaN</td>\n",
       "      <td>NaN</td>\n",
       "      <td>NaN</td>\n",
       "    </tr>\n",
       "    <tr>\n",
       "      <th>1</th>\n",
       "      <td>BAR.NOED.1519.ZS</td>\n",
       "      <td>Attainment</td>\n",
       "      <td>Barro-Lee: Percentage of population age 15-19 ...</td>\n",
       "      <td>Percentage of population age 15-19 with no edu...</td>\n",
       "      <td>Percentage of population age 15-19 with no edu...</td>\n",
       "      <td>NaN</td>\n",
       "      <td>NaN</td>\n",
       "      <td>NaN</td>\n",
       "      <td>NaN</td>\n",
       "      <td>NaN</td>\n",
       "      <td>...</td>\n",
       "      <td>NaN</td>\n",
       "      <td>NaN</td>\n",
       "      <td>Robert J. Barro and Jong-Wha Lee: http://www.b...</td>\n",
       "      <td>NaN</td>\n",
       "      <td>NaN</td>\n",
       "      <td>NaN</td>\n",
       "      <td>NaN</td>\n",
       "      <td>NaN</td>\n",
       "      <td>NaN</td>\n",
       "      <td>NaN</td>\n",
       "    </tr>\n",
       "    <tr>\n",
       "      <th>2</th>\n",
       "      <td>BAR.NOED.15UP.FE.ZS</td>\n",
       "      <td>Attainment</td>\n",
       "      <td>Barro-Lee: Percentage of female population age...</td>\n",
       "      <td>Percentage of female population age 15+ with n...</td>\n",
       "      <td>Percentage of female population age 15+ with n...</td>\n",
       "      <td>NaN</td>\n",
       "      <td>NaN</td>\n",
       "      <td>NaN</td>\n",
       "      <td>NaN</td>\n",
       "      <td>NaN</td>\n",
       "      <td>...</td>\n",
       "      <td>NaN</td>\n",
       "      <td>NaN</td>\n",
       "      <td>Robert J. Barro and Jong-Wha Lee: http://www.b...</td>\n",
       "      <td>NaN</td>\n",
       "      <td>NaN</td>\n",
       "      <td>NaN</td>\n",
       "      <td>NaN</td>\n",
       "      <td>NaN</td>\n",
       "      <td>NaN</td>\n",
       "      <td>NaN</td>\n",
       "    </tr>\n",
       "    <tr>\n",
       "      <th>3</th>\n",
       "      <td>BAR.NOED.15UP.ZS</td>\n",
       "      <td>Attainment</td>\n",
       "      <td>Barro-Lee: Percentage of population age 15+ wi...</td>\n",
       "      <td>Percentage of population age 15+ with no educa...</td>\n",
       "      <td>Percentage of population age 15+ with no educa...</td>\n",
       "      <td>NaN</td>\n",
       "      <td>NaN</td>\n",
       "      <td>NaN</td>\n",
       "      <td>NaN</td>\n",
       "      <td>NaN</td>\n",
       "      <td>...</td>\n",
       "      <td>NaN</td>\n",
       "      <td>NaN</td>\n",
       "      <td>Robert J. Barro and Jong-Wha Lee: http://www.b...</td>\n",
       "      <td>NaN</td>\n",
       "      <td>NaN</td>\n",
       "      <td>NaN</td>\n",
       "      <td>NaN</td>\n",
       "      <td>NaN</td>\n",
       "      <td>NaN</td>\n",
       "      <td>NaN</td>\n",
       "    </tr>\n",
       "    <tr>\n",
       "      <th>4</th>\n",
       "      <td>BAR.NOED.2024.FE.ZS</td>\n",
       "      <td>Attainment</td>\n",
       "      <td>Barro-Lee: Percentage of female population age...</td>\n",
       "      <td>Percentage of female population age 20-24 with...</td>\n",
       "      <td>Percentage of female population age 20-24 with...</td>\n",
       "      <td>NaN</td>\n",
       "      <td>NaN</td>\n",
       "      <td>NaN</td>\n",
       "      <td>NaN</td>\n",
       "      <td>NaN</td>\n",
       "      <td>...</td>\n",
       "      <td>NaN</td>\n",
       "      <td>NaN</td>\n",
       "      <td>Robert J. Barro and Jong-Wha Lee: http://www.b...</td>\n",
       "      <td>NaN</td>\n",
       "      <td>NaN</td>\n",
       "      <td>NaN</td>\n",
       "      <td>NaN</td>\n",
       "      <td>NaN</td>\n",
       "      <td>NaN</td>\n",
       "      <td>NaN</td>\n",
       "    </tr>\n",
       "  </tbody>\n",
       "</table>\n",
       "<p>5 rows × 21 columns</p>\n",
       "</div>"
      ],
      "text/plain": [
       "           Series Code       Topic  \\\n",
       "0  BAR.NOED.1519.FE.ZS  Attainment   \n",
       "1     BAR.NOED.1519.ZS  Attainment   \n",
       "2  BAR.NOED.15UP.FE.ZS  Attainment   \n",
       "3     BAR.NOED.15UP.ZS  Attainment   \n",
       "4  BAR.NOED.2024.FE.ZS  Attainment   \n",
       "\n",
       "                                      Indicator Name  \\\n",
       "0  Barro-Lee: Percentage of female population age...   \n",
       "1  Barro-Lee: Percentage of population age 15-19 ...   \n",
       "2  Barro-Lee: Percentage of female population age...   \n",
       "3  Barro-Lee: Percentage of population age 15+ wi...   \n",
       "4  Barro-Lee: Percentage of female population age...   \n",
       "\n",
       "                                    Short definition  \\\n",
       "0  Percentage of female population age 15-19 with...   \n",
       "1  Percentage of population age 15-19 with no edu...   \n",
       "2  Percentage of female population age 15+ with n...   \n",
       "3  Percentage of population age 15+ with no educa...   \n",
       "4  Percentage of female population age 20-24 with...   \n",
       "\n",
       "                                     Long definition  Unit of measure  \\\n",
       "0  Percentage of female population age 15-19 with...              NaN   \n",
       "1  Percentage of population age 15-19 with no edu...              NaN   \n",
       "2  Percentage of female population age 15+ with n...              NaN   \n",
       "3  Percentage of population age 15+ with no educa...              NaN   \n",
       "4  Percentage of female population age 20-24 with...              NaN   \n",
       "\n",
       "  Periodicity Base Period Other notes Aggregation method  ...  \\\n",
       "0         NaN         NaN         NaN                NaN  ...   \n",
       "1         NaN         NaN         NaN                NaN  ...   \n",
       "2         NaN         NaN         NaN                NaN  ...   \n",
       "3         NaN         NaN         NaN                NaN  ...   \n",
       "4         NaN         NaN         NaN                NaN  ...   \n",
       "\n",
       "  Notes from original source  General comments  \\\n",
       "0                        NaN               NaN   \n",
       "1                        NaN               NaN   \n",
       "2                        NaN               NaN   \n",
       "3                        NaN               NaN   \n",
       "4                        NaN               NaN   \n",
       "\n",
       "                                              Source  \\\n",
       "0  Robert J. Barro and Jong-Wha Lee: http://www.b...   \n",
       "1  Robert J. Barro and Jong-Wha Lee: http://www.b...   \n",
       "2  Robert J. Barro and Jong-Wha Lee: http://www.b...   \n",
       "3  Robert J. Barro and Jong-Wha Lee: http://www.b...   \n",
       "4  Robert J. Barro and Jong-Wha Lee: http://www.b...   \n",
       "\n",
       "  Statistical concept and methodology Development relevance  \\\n",
       "0                                 NaN                   NaN   \n",
       "1                                 NaN                   NaN   \n",
       "2                                 NaN                   NaN   \n",
       "3                                 NaN                   NaN   \n",
       "4                                 NaN                   NaN   \n",
       "\n",
       "  Related source links Other web links  Related indicators  License Type  \\\n",
       "0                  NaN             NaN                 NaN           NaN   \n",
       "1                  NaN             NaN                 NaN           NaN   \n",
       "2                  NaN             NaN                 NaN           NaN   \n",
       "3                  NaN             NaN                 NaN           NaN   \n",
       "4                  NaN             NaN                 NaN           NaN   \n",
       "\n",
       "   Unnamed: 20  \n",
       "0          NaN  \n",
       "1          NaN  \n",
       "2          NaN  \n",
       "3          NaN  \n",
       "4          NaN  \n",
       "\n",
       "[5 rows x 21 columns]"
      ]
     },
     "execution_count": 2381,
     "metadata": {},
     "output_type": "execute_result"
    }
   ],
   "source": [
    "df.head(5)"
   ]
  },
  {
   "cell_type": "code",
   "execution_count": 2382,
   "id": "67c67018-d992-46db-9318-fa730c78fff2",
   "metadata": {},
   "outputs": [
    {
     "data": {
      "text/plain": [
       "(3665, 21)"
      ]
     },
     "execution_count": 2382,
     "metadata": {},
     "output_type": "execute_result"
    }
   ],
   "source": [
    "df.shape"
   ]
  },
  {
   "cell_type": "markdown",
   "id": "f9fdc3cb-240b-4ec7-8917-a48f32c0b90a",
   "metadata": {},
   "source": [
    "Le fichier contient fichier 3665 lignes et 21 colonnes."
   ]
  },
  {
   "cell_type": "code",
   "execution_count": 2383,
   "id": "eadc117e-5dff-4858-a13e-aa2863ec77c0",
   "metadata": {},
   "outputs": [
    {
     "data": {
      "text/plain": [
       "Series Code                            0.000000\n",
       "Topic                                  0.000000\n",
       "Indicator Name                         0.000000\n",
       "Short definition                       0.411733\n",
       "Long definition                        0.000000\n",
       "Unit of measure                        1.000000\n",
       "Periodicity                            0.972988\n",
       "Base Period                            0.914325\n",
       "Other notes                            0.849386\n",
       "Aggregation method                     0.987176\n",
       "Limitations and exceptions             0.996180\n",
       "Notes from original source             1.000000\n",
       "General comments                       0.996180\n",
       "Source                                 0.000000\n",
       "Statistical concept and methodology    0.993724\n",
       "Development relevance                  0.999181\n",
       "Related source links                   0.941337\n",
       "Other web links                        1.000000\n",
       "Related indicators                     1.000000\n",
       "License Type                           1.000000\n",
       "Unnamed: 20                            1.000000\n",
       "dtype: float64"
      ]
     },
     "execution_count": 2383,
     "metadata": {},
     "output_type": "execute_result"
    }
   ],
   "source": [
    "mean_null_by_columns_df = df.isnull().mean()\n",
    "mean_null_by_columns_df"
   ]
  },
  {
   "cell_type": "code",
   "execution_count": 2384,
   "id": "1d21ded1-d17c-49d9-bcc1-fb3c9d91f1fc",
   "metadata": {},
   "outputs": [
    {
     "data": {
      "text/plain": [
       "Series Code        0.0\n",
       "Topic              0.0\n",
       "Indicator Name     0.0\n",
       "Long definition    0.0\n",
       "Source             0.0\n",
       "dtype: float64"
      ]
     },
     "execution_count": 2384,
     "metadata": {},
     "output_type": "execute_result"
    }
   ],
   "source": [
    "columns_with_no_null = mean_null_by_columns_df[mean_null_by_columns_df == 0.0]\n",
    "columns_with_no_null"
   ]
  },
  {
   "cell_type": "markdown",
   "id": "48711759-eaa3-4e24-af00-f1f00372c733",
   "metadata": {},
   "source": [
    "Aucune données n'est manquante dans les colonnes ci-dessus"
   ]
  },
  {
   "cell_type": "code",
   "execution_count": 2385,
   "id": "e2adfe38-7912-443c-8882-5eaf41f763d1",
   "metadata": {},
   "outputs": [],
   "source": [
    "columns_with_only_null = mean_null_by_columns_df[mean_null_by_columns_df == 1.0]"
   ]
  },
  {
   "cell_type": "markdown",
   "id": "3daa9883-d7e3-4427-af58-722c53dc6a4b",
   "metadata": {},
   "source": [
    "Les colonnes ci-dessus sont vides"
   ]
  },
  {
   "cell_type": "code",
   "execution_count": 2386,
   "id": "73336d48-a86a-4fcb-945e-fdb96ba10041",
   "metadata": {
    "editable": true,
    "slideshow": {
     "slide_type": ""
    },
    "tags": []
   },
   "outputs": [],
   "source": [
    "series = df"
   ]
  },
  {
   "cell_type": "markdown",
   "id": "8577718b-6a8f-4935-b017-78acc152e652",
   "metadata": {
    "editable": true,
    "slideshow": {
     "slide_type": ""
    },
    "tags": []
   },
   "source": [
    "## Partie 2 : Sélectionnez les données pertinentes"
   ]
  },
  {
   "cell_type": "markdown",
   "id": "f0c87c02-2f7e-41c2-9c69-effda861f152",
   "metadata": {},
   "source": [
    "### Données prévisionnelles"
   ]
  },
  {
   "cell_type": "code",
   "execution_count": 2387,
   "id": "bcd1c001-ffc2-45a4-8c0e-fbf4ea785990",
   "metadata": {},
   "outputs": [],
   "source": [
    "df = stats"
   ]
  },
  {
   "cell_type": "code",
   "execution_count": 2388,
   "id": "832f2083-7c7b-479a-9db1-87b16937a163",
   "metadata": {},
   "outputs": [],
   "source": [
    "# Rename some columns\n",
    "df.rename(columns={'Indicator Name' : 'indicator', 'Country Name': 'country'}, inplace = True)"
   ]
  },
  {
   "cell_type": "code",
   "execution_count": 2389,
   "id": "95467fd9-8bb7-42d3-b2f1-7f58c3ce6f74",
   "metadata": {
    "editable": true,
    "slideshow": {
     "slide_type": ""
    },
    "tags": []
   },
   "outputs": [],
   "source": [
    "# Delete the last column\n",
    "df = df.iloc[:, :-1]"
   ]
  },
  {
   "cell_type": "code",
   "execution_count": 2390,
   "id": "779cb669-3a1f-4087-8ef9-aabc5c5f003e",
   "metadata": {},
   "outputs": [
    {
     "data": {
      "text/plain": [
       "(886930, 69)"
      ]
     },
     "execution_count": 2390,
     "metadata": {},
     "output_type": "execute_result"
    }
   ],
   "source": [
    "df.shape"
   ]
  },
  {
   "cell_type": "code",
   "execution_count": 2391,
   "id": "eda36147-83a0-4ff0-8142-5fca3945ea33",
   "metadata": {},
   "outputs": [
    {
     "data": {
      "text/plain": [
       "(886930, 69)"
      ]
     },
     "execution_count": 2391,
     "metadata": {},
     "output_type": "execute_result"
    }
   ],
   "source": [
    "# Drop duplicated columns (here no columns were duplicated)\n",
    "df.drop_duplicates(subset=[\"country\", \"indicator\"], keep='first')\n",
    "df.shape"
   ]
  },
  {
   "cell_type": "code",
   "execution_count": 2392,
   "id": "eaab75b5-cb69-446d-9639-80aae3d17418",
   "metadata": {},
   "outputs": [],
   "source": [
    "# Choose dimensions and years to use for the forecast\n",
    "df = df[['country', 'indicator', \"2025\", \"2030\", \"2035\", \"2040\"]]"
   ]
  },
  {
   "cell_type": "code",
   "execution_count": 2393,
   "id": "7ced557d-40ca-46ce-a206-dd58fbf738c6",
   "metadata": {},
   "outputs": [
    {
     "data": {
      "text/html": [
       "<div>\n",
       "<style scoped>\n",
       "    .dataframe tbody tr th:only-of-type {\n",
       "        vertical-align: middle;\n",
       "    }\n",
       "\n",
       "    .dataframe tbody tr th {\n",
       "        vertical-align: top;\n",
       "    }\n",
       "\n",
       "    .dataframe thead th {\n",
       "        text-align: right;\n",
       "    }\n",
       "</style>\n",
       "<table border=\"1\" class=\"dataframe\">\n",
       "  <thead>\n",
       "    <tr style=\"text-align: right;\">\n",
       "      <th></th>\n",
       "      <th>country</th>\n",
       "      <th>indicator</th>\n",
       "      <th>year</th>\n",
       "      <th>value</th>\n",
       "    </tr>\n",
       "  </thead>\n",
       "  <tbody>\n",
       "    <tr>\n",
       "      <th>0</th>\n",
       "      <td>Afghanistan</td>\n",
       "      <td>Adjusted net enrolment rate, lower secondary, ...</td>\n",
       "      <td>2025</td>\n",
       "      <td>NaN</td>\n",
       "    </tr>\n",
       "    <tr>\n",
       "      <th>1</th>\n",
       "      <td>Afghanistan</td>\n",
       "      <td>Adjusted net enrolment rate, lower secondary, ...</td>\n",
       "      <td>2030</td>\n",
       "      <td>NaN</td>\n",
       "    </tr>\n",
       "    <tr>\n",
       "      <th>2</th>\n",
       "      <td>Afghanistan</td>\n",
       "      <td>Adjusted net enrolment rate, lower secondary, ...</td>\n",
       "      <td>2035</td>\n",
       "      <td>NaN</td>\n",
       "    </tr>\n",
       "    <tr>\n",
       "      <th>3</th>\n",
       "      <td>Afghanistan</td>\n",
       "      <td>Adjusted net enrolment rate, lower secondary, ...</td>\n",
       "      <td>2040</td>\n",
       "      <td>NaN</td>\n",
       "    </tr>\n",
       "    <tr>\n",
       "      <th>4</th>\n",
       "      <td>Afghanistan</td>\n",
       "      <td>Adjusted net enrolment rate, lower secondary, ...</td>\n",
       "      <td>2025</td>\n",
       "      <td>NaN</td>\n",
       "    </tr>\n",
       "  </tbody>\n",
       "</table>\n",
       "</div>"
      ],
      "text/plain": [
       "       country                                          indicator  year  value\n",
       "0  Afghanistan  Adjusted net enrolment rate, lower secondary, ...  2025    NaN\n",
       "1  Afghanistan  Adjusted net enrolment rate, lower secondary, ...  2030    NaN\n",
       "2  Afghanistan  Adjusted net enrolment rate, lower secondary, ...  2035    NaN\n",
       "3  Afghanistan  Adjusted net enrolment rate, lower secondary, ...  2040    NaN\n",
       "4  Afghanistan  Adjusted net enrolment rate, lower secondary, ...  2025    NaN"
      ]
     },
     "execution_count": 2393,
     "metadata": {},
     "output_type": "execute_result"
    }
   ],
   "source": [
    "# Regroup all years columns into one\n",
    "df = pd.melt(df, id_vars=['country', 'indicator'], var_name=\"year\", value_name=\"value\")\n",
    "df = df.sort_values(by=['country', 'indicator', 'year']).reset_index(drop=True)\n",
    "df.head()"
   ]
  },
  {
   "cell_type": "code",
   "execution_count": 2394,
   "id": "f3e38340-8b78-4f3f-9c82-73bee359786e",
   "metadata": {},
   "outputs": [
    {
     "data": {
      "text/html": [
       "<div>\n",
       "<style scoped>\n",
       "    .dataframe tbody tr th:only-of-type {\n",
       "        vertical-align: middle;\n",
       "    }\n",
       "\n",
       "    .dataframe tbody tr th {\n",
       "        vertical-align: top;\n",
       "    }\n",
       "\n",
       "    .dataframe thead th {\n",
       "        text-align: right;\n",
       "    }\n",
       "</style>\n",
       "<table border=\"1\" class=\"dataframe\">\n",
       "  <thead>\n",
       "    <tr style=\"text-align: right;\">\n",
       "      <th></th>\n",
       "      <th>country</th>\n",
       "      <th>year</th>\n",
       "      <th>Adjusted net enrolment rate, lower secondary, both sexes (%)</th>\n",
       "      <th>Adjusted net enrolment rate, lower secondary, female (%)</th>\n",
       "      <th>Adjusted net enrolment rate, lower secondary, gender parity index (GPI)</th>\n",
       "      <th>Adjusted net enrolment rate, lower secondary, male (%)</th>\n",
       "      <th>Adjusted net enrolment rate, primary, both sexes (%)</th>\n",
       "      <th>Adjusted net enrolment rate, primary, female (%)</th>\n",
       "      <th>Adjusted net enrolment rate, primary, gender parity index (GPI)</th>\n",
       "      <th>Adjusted net enrolment rate, primary, male (%)</th>\n",
       "      <th>...</th>\n",
       "      <th>Wittgenstein Projection: Population in thousands by highest level of educational attainment. Upper Secondary. Male</th>\n",
       "      <th>Wittgenstein Projection: Population in thousands by highest level of educational attainment. Upper Secondary. Total</th>\n",
       "      <th>Youth illiterate population, 15-24 years, % female</th>\n",
       "      <th>Youth illiterate population, 15-24 years, both sexes (number)</th>\n",
       "      <th>Youth illiterate population, 15-24 years, female (number)</th>\n",
       "      <th>Youth illiterate population, 15-24 years, male (number)</th>\n",
       "      <th>Youth literacy rate, population 15-24 years, both sexes (%)</th>\n",
       "      <th>Youth literacy rate, population 15-24 years, female (%)</th>\n",
       "      <th>Youth literacy rate, population 15-24 years, gender parity index (GPI)</th>\n",
       "      <th>Youth literacy rate, population 15-24 years, male (%)</th>\n",
       "    </tr>\n",
       "  </thead>\n",
       "  <tbody>\n",
       "    <tr>\n",
       "      <th>0</th>\n",
       "      <td>Afghanistan</td>\n",
       "      <td>2025</td>\n",
       "      <td>0.0</td>\n",
       "      <td>0.0</td>\n",
       "      <td>0.0</td>\n",
       "      <td>0.0</td>\n",
       "      <td>0.0</td>\n",
       "      <td>0.0</td>\n",
       "      <td>0.0</td>\n",
       "      <td>0.0</td>\n",
       "      <td>...</td>\n",
       "      <td>0.00</td>\n",
       "      <td>0.00</td>\n",
       "      <td>0.0</td>\n",
       "      <td>0.0</td>\n",
       "      <td>0.0</td>\n",
       "      <td>0.0</td>\n",
       "      <td>0.0</td>\n",
       "      <td>0.0</td>\n",
       "      <td>0.0</td>\n",
       "      <td>0.0</td>\n",
       "    </tr>\n",
       "    <tr>\n",
       "      <th>1</th>\n",
       "      <td>Afghanistan</td>\n",
       "      <td>2030</td>\n",
       "      <td>0.0</td>\n",
       "      <td>0.0</td>\n",
       "      <td>0.0</td>\n",
       "      <td>0.0</td>\n",
       "      <td>0.0</td>\n",
       "      <td>0.0</td>\n",
       "      <td>0.0</td>\n",
       "      <td>0.0</td>\n",
       "      <td>...</td>\n",
       "      <td>0.00</td>\n",
       "      <td>0.00</td>\n",
       "      <td>0.0</td>\n",
       "      <td>0.0</td>\n",
       "      <td>0.0</td>\n",
       "      <td>0.0</td>\n",
       "      <td>0.0</td>\n",
       "      <td>0.0</td>\n",
       "      <td>0.0</td>\n",
       "      <td>0.0</td>\n",
       "    </tr>\n",
       "    <tr>\n",
       "      <th>2</th>\n",
       "      <td>Afghanistan</td>\n",
       "      <td>2035</td>\n",
       "      <td>0.0</td>\n",
       "      <td>0.0</td>\n",
       "      <td>0.0</td>\n",
       "      <td>0.0</td>\n",
       "      <td>0.0</td>\n",
       "      <td>0.0</td>\n",
       "      <td>0.0</td>\n",
       "      <td>0.0</td>\n",
       "      <td>...</td>\n",
       "      <td>0.00</td>\n",
       "      <td>0.00</td>\n",
       "      <td>0.0</td>\n",
       "      <td>0.0</td>\n",
       "      <td>0.0</td>\n",
       "      <td>0.0</td>\n",
       "      <td>0.0</td>\n",
       "      <td>0.0</td>\n",
       "      <td>0.0</td>\n",
       "      <td>0.0</td>\n",
       "    </tr>\n",
       "    <tr>\n",
       "      <th>3</th>\n",
       "      <td>Afghanistan</td>\n",
       "      <td>2040</td>\n",
       "      <td>0.0</td>\n",
       "      <td>0.0</td>\n",
       "      <td>0.0</td>\n",
       "      <td>0.0</td>\n",
       "      <td>0.0</td>\n",
       "      <td>0.0</td>\n",
       "      <td>0.0</td>\n",
       "      <td>0.0</td>\n",
       "      <td>...</td>\n",
       "      <td>0.00</td>\n",
       "      <td>0.00</td>\n",
       "      <td>0.0</td>\n",
       "      <td>0.0</td>\n",
       "      <td>0.0</td>\n",
       "      <td>0.0</td>\n",
       "      <td>0.0</td>\n",
       "      <td>0.0</td>\n",
       "      <td>0.0</td>\n",
       "      <td>0.0</td>\n",
       "    </tr>\n",
       "    <tr>\n",
       "      <th>4</th>\n",
       "      <td>Albania</td>\n",
       "      <td>2025</td>\n",
       "      <td>0.0</td>\n",
       "      <td>0.0</td>\n",
       "      <td>0.0</td>\n",
       "      <td>0.0</td>\n",
       "      <td>0.0</td>\n",
       "      <td>0.0</td>\n",
       "      <td>0.0</td>\n",
       "      <td>0.0</td>\n",
       "      <td>...</td>\n",
       "      <td>649.76</td>\n",
       "      <td>1302.61</td>\n",
       "      <td>0.0</td>\n",
       "      <td>0.0</td>\n",
       "      <td>0.0</td>\n",
       "      <td>0.0</td>\n",
       "      <td>0.0</td>\n",
       "      <td>0.0</td>\n",
       "      <td>0.0</td>\n",
       "      <td>0.0</td>\n",
       "    </tr>\n",
       "  </tbody>\n",
       "</table>\n",
       "<p>5 rows × 3667 columns</p>\n",
       "</div>"
      ],
      "text/plain": [
       "       country  year  \\\n",
       "0  Afghanistan  2025   \n",
       "1  Afghanistan  2030   \n",
       "2  Afghanistan  2035   \n",
       "3  Afghanistan  2040   \n",
       "4      Albania  2025   \n",
       "\n",
       "   Adjusted net enrolment rate, lower secondary, both sexes (%)  \\\n",
       "0                                                0.0              \n",
       "1                                                0.0              \n",
       "2                                                0.0              \n",
       "3                                                0.0              \n",
       "4                                                0.0              \n",
       "\n",
       "   Adjusted net enrolment rate, lower secondary, female (%)  \\\n",
       "0                                                0.0          \n",
       "1                                                0.0          \n",
       "2                                                0.0          \n",
       "3                                                0.0          \n",
       "4                                                0.0          \n",
       "\n",
       "   Adjusted net enrolment rate, lower secondary, gender parity index (GPI)  \\\n",
       "0                                                0.0                         \n",
       "1                                                0.0                         \n",
       "2                                                0.0                         \n",
       "3                                                0.0                         \n",
       "4                                                0.0                         \n",
       "\n",
       "   Adjusted net enrolment rate, lower secondary, male (%)  \\\n",
       "0                                                0.0        \n",
       "1                                                0.0        \n",
       "2                                                0.0        \n",
       "3                                                0.0        \n",
       "4                                                0.0        \n",
       "\n",
       "   Adjusted net enrolment rate, primary, both sexes (%)  \\\n",
       "0                                                0.0      \n",
       "1                                                0.0      \n",
       "2                                                0.0      \n",
       "3                                                0.0      \n",
       "4                                                0.0      \n",
       "\n",
       "   Adjusted net enrolment rate, primary, female (%)  \\\n",
       "0                                               0.0   \n",
       "1                                               0.0   \n",
       "2                                               0.0   \n",
       "3                                               0.0   \n",
       "4                                               0.0   \n",
       "\n",
       "   Adjusted net enrolment rate, primary, gender parity index (GPI)  \\\n",
       "0                                                0.0                 \n",
       "1                                                0.0                 \n",
       "2                                                0.0                 \n",
       "3                                                0.0                 \n",
       "4                                                0.0                 \n",
       "\n",
       "   Adjusted net enrolment rate, primary, male (%)  ...  \\\n",
       "0                                             0.0  ...   \n",
       "1                                             0.0  ...   \n",
       "2                                             0.0  ...   \n",
       "3                                             0.0  ...   \n",
       "4                                             0.0  ...   \n",
       "\n",
       "   Wittgenstein Projection: Population in thousands by highest level of educational attainment. Upper Secondary. Male  \\\n",
       "0                                               0.00                                                                    \n",
       "1                                               0.00                                                                    \n",
       "2                                               0.00                                                                    \n",
       "3                                               0.00                                                                    \n",
       "4                                             649.76                                                                    \n",
       "\n",
       "   Wittgenstein Projection: Population in thousands by highest level of educational attainment. Upper Secondary. Total  \\\n",
       "0                                               0.00                                                                     \n",
       "1                                               0.00                                                                     \n",
       "2                                               0.00                                                                     \n",
       "3                                               0.00                                                                     \n",
       "4                                            1302.61                                                                     \n",
       "\n",
       "   Youth illiterate population, 15-24 years, % female  \\\n",
       "0                                                0.0    \n",
       "1                                                0.0    \n",
       "2                                                0.0    \n",
       "3                                                0.0    \n",
       "4                                                0.0    \n",
       "\n",
       "   Youth illiterate population, 15-24 years, both sexes (number)  \\\n",
       "0                                                0.0               \n",
       "1                                                0.0               \n",
       "2                                                0.0               \n",
       "3                                                0.0               \n",
       "4                                                0.0               \n",
       "\n",
       "   Youth illiterate population, 15-24 years, female (number)  \\\n",
       "0                                                0.0           \n",
       "1                                                0.0           \n",
       "2                                                0.0           \n",
       "3                                                0.0           \n",
       "4                                                0.0           \n",
       "\n",
       "   Youth illiterate population, 15-24 years, male (number)  \\\n",
       "0                                                0.0         \n",
       "1                                                0.0         \n",
       "2                                                0.0         \n",
       "3                                                0.0         \n",
       "4                                                0.0         \n",
       "\n",
       "   Youth literacy rate, population 15-24 years, both sexes (%)  \\\n",
       "0                                                0.0             \n",
       "1                                                0.0             \n",
       "2                                                0.0             \n",
       "3                                                0.0             \n",
       "4                                                0.0             \n",
       "\n",
       "   Youth literacy rate, population 15-24 years, female (%)  \\\n",
       "0                                                0.0         \n",
       "1                                                0.0         \n",
       "2                                                0.0         \n",
       "3                                                0.0         \n",
       "4                                                0.0         \n",
       "\n",
       "   Youth literacy rate, population 15-24 years, gender parity index (GPI)  \\\n",
       "0                                                0.0                        \n",
       "1                                                0.0                        \n",
       "2                                                0.0                        \n",
       "3                                                0.0                        \n",
       "4                                                0.0                        \n",
       "\n",
       "   Youth literacy rate, population 15-24 years, male (%)  \n",
       "0                                                0.0      \n",
       "1                                                0.0      \n",
       "2                                                0.0      \n",
       "3                                                0.0      \n",
       "4                                                0.0      \n",
       "\n",
       "[5 rows x 3667 columns]"
      ]
     },
     "execution_count": 2394,
     "metadata": {},
     "output_type": "execute_result"
    }
   ],
   "source": [
    "# Divide all values in indicator column to create new columns\n",
    "df = df.pivot_table(index=['country', 'year'], columns='indicator', values='value', aggfunc='sum').reset_index()\n",
    "# Renaming columns for clarity\n",
    "df.columns.name = None\n",
    "df.head()"
   ]
  },
  {
   "cell_type": "code",
   "execution_count": 2395,
   "id": "347f697b-16dc-4519-97c2-8f56edd9abd7",
   "metadata": {},
   "outputs": [],
   "source": [
    "# Delete all values in the country column that are not countries\n",
    "non_countries = [\n",
    "    'Arab World',\n",
    "    'East Asia & Pacific',\n",
    "    'East Asia & Pacific (excluding high income)',\n",
    "    'Euro area',\n",
    "    'Europe & Central Asia',\n",
    "    'Europe & Central Asia (excluding high income)',\n",
    "    'European Union',\n",
    "    'Heavily indebted poor countries (HIPC)',\n",
    "    'High income',\n",
    "    'Latin America & Caribbean',\n",
    "    'Latin America & Caribbean (excluding high income)',\n",
    "    'Least developed countries: UN classification',\n",
    "    'Low & middle income',\n",
    "    'Low income',\n",
    "    'Lower middle income',\n",
    "    'Middle East & North Africa',\n",
    "    'Middle East & North Africa (excluding high income)',\n",
    "    'Middle income',\n",
    "    'North America',\n",
    "    'OECD members',\n",
    "    'South Asia',\n",
    "    'Sub-Saharan Africa',\n",
    "    'Sub-Saharan Africa (excluding high income)',\n",
    "    'Upper middle income',\n",
    "    'World'\n",
    " ]\n",
    "df =  df[~df[\"country\"].isin(non_countries)]"
   ]
  },
  {
   "cell_type": "code",
   "execution_count": 2396,
   "id": "fa92b853-2fc9-4824-a68e-908ff844abb1",
   "metadata": {},
   "outputs": [],
   "source": [
    "# Delete countries with no data\n",
    "\n",
    "df_grouped_by_country = df.groupby(['country']).sum().reset_index()\n",
    "countries_with_no_data = []\n",
    "\n",
    "# Iterate over each row in the DataFrame\n",
    "for index, row in df_grouped_by_country.iterrows():\n",
    "    # Check if all indicator columns are 0\n",
    "    if (row.drop(['country', 'year']) == 0).all():\n",
    "        countries_with_no_data.append(row['country'])\n",
    "\n",
    "df =  df[~df[\"country\"].isin(countries_with_no_data)]"
   ]
  },
  {
   "cell_type": "code",
   "execution_count": 2397,
   "id": "b24d1854-064f-4b6f-b4b8-bb60693b8d2b",
   "metadata": {},
   "outputs": [
    {
     "data": {
      "text/plain": [
       "country                                                                                                                               0.0\n",
       "Wittgenstein Projection: Percentage of the population age 25+ by highest level of educational attainment. Post Secondary. Male        0.0\n",
       "Wittgenstein Projection: Percentage of the population age 25+ by highest level of educational attainment. Post Secondary. Female      0.0\n",
       "Wittgenstein Projection: Percentage of the population age 20-64 by highest level of educational attainment. Upper Secondary. Total    0.0\n",
       "Wittgenstein Projection: Percentage of the population age 20-64 by highest level of educational attainment. Upper Secondary. Male     0.0\n",
       "dtype: float64"
      ]
     },
     "execution_count": 2397,
     "metadata": {},
     "output_type": "execute_result"
    }
   ],
   "source": [
    "# Calculate for each columns the mean of values that equal to 0.\n",
    "# Sort the result in order to select columns with a rate of 50% or less\n",
    "zero_proportion = df.eq(0).mean().sort_values(ascending=True)\n",
    "\n",
    "zero_proportion[zero_proportion < 0.5].head()"
   ]
  },
  {
   "cell_type": "code",
   "execution_count": 2398,
   "id": "61b2f44b-991c-4e64-8f51-1d89f3afcde1",
   "metadata": {},
   "outputs": [],
   "source": [
    "forecast_dimensions = [\n",
    "    'Wittgenstein Projection: Mean years of schooling. Age 15-19. Total',\n",
    "    'Wittgenstein Projection: Mean years of schooling. Age 20-24. Total',\n",
    "    'Wittgenstein Projection: Mean years of schooling. Age 25-29. Total',\n",
    "    'Wittgenstein Projection: Population age 15-19 in thousands by highest level of educational attainment. Upper Secondary. Total',\n",
    "    'Wittgenstein Projection: Population age 20-24 in thousands by highest level of educational attainment. Upper Secondary. Total',\n",
    "    'Wittgenstein Projection: Population age 20-24 in thousands by highest level of educational attainment. Post Secondary. Total',\n",
    "    'Wittgenstein Projection: Population age 25-29 in thousands by highest level of educational attainment. Upper Secondary. Total',\n",
    "    'Wittgenstein Projection: Population age 25-29 in thousands by highest level of educational attainment. Post Secondary. Total',\n",
    "\n",
    "]\n",
    "dimensions = ['country', 'year'] + forecast_dimensions"
   ]
  },
  {
   "cell_type": "code",
   "execution_count": 2399,
   "id": "94237987-6a3f-4b6d-b9f6-b322383242f2",
   "metadata": {},
   "outputs": [],
   "source": [
    "df = df[dimensions]"
   ]
  },
  {
   "cell_type": "code",
   "execution_count": 2400,
   "id": "cba4c656-91de-4272-8ed4-b1e6f7690ad9",
   "metadata": {
    "scrolled": true
   },
   "outputs": [
    {
     "data": {
      "text/plain": [
       "<Axes: >"
      ]
     },
     "execution_count": 2400,
     "metadata": {},
     "output_type": "execute_result"
    },
    {
     "data": {
      "image/png": "[encoded data removed]",
      "text/plain": [
       "<Figure size 2500x1000 with 2 Axes>"
      ]
     },
     "metadata": {},
     "output_type": "display_data"
    }
   ],
   "source": [
    "import missingno as msno\n",
    "import numpy as np\n",
    "df.replace(0, np.nan, inplace=True)\n",
    "\n",
    "%matplotlib inline\n",
    "msno.matrix(df.sample(664))"
   ]
  },
  {
   "cell_type": "markdown",
   "id": "ef8cc9b2-f88e-4008-bd58-b9bd6b229121",
   "metadata": {},
   "source": [
    "### Données historiques"
   ]
  },
  {
   "cell_type": "code",
   "execution_count": 2401,
   "id": "4c46d30e-5e1e-4e98-8e31-ebd5dd442631",
   "metadata": {},
   "outputs": [],
   "source": [
    "df = stats"
   ]
  },
  {
   "cell_type": "code",
   "execution_count": 2402,
   "id": "43d4553f-2e00-409a-9f1b-ffc7b992a78d",
   "metadata": {},
   "outputs": [],
   "source": [
    "# Rename some columns\n",
    "df.rename(columns={'Indicator Name' : 'indicator', 'Country Name': 'country'}, inplace = True)"
   ]
  },
  {
   "cell_type": "code",
   "execution_count": 2403,
   "id": "dbe1e3c8-f0f8-4a5d-b67d-8cf412622a95",
   "metadata": {
    "editable": true,
    "slideshow": {
     "slide_type": ""
    },
    "tags": []
   },
   "outputs": [],
   "source": [
    "# Delete the last column\n",
    "df = df.iloc[:, :-1]"
   ]
  },
  {
   "cell_type": "code",
   "execution_count": 2404,
   "id": "f481f284-c316-4a96-8315-1e5284b02209",
   "metadata": {},
   "outputs": [
    {
     "data": {
      "text/plain": [
       "(886930, 69)"
      ]
     },
     "execution_count": 2404,
     "metadata": {},
     "output_type": "execute_result"
    }
   ],
   "source": [
    "df.shape"
   ]
  },
  {
   "cell_type": "code",
   "execution_count": 2405,
   "id": "06c0c338-9f42-4fa6-bcde-4d9e7bb0606b",
   "metadata": {},
   "outputs": [
    {
     "data": {
      "text/plain": [
       "(886930, 69)"
      ]
     },
     "execution_count": 2405,
     "metadata": {},
     "output_type": "execute_result"
    }
   ],
   "source": [
    "# Drop duplicated columns (here no columns were duplicated)\n",
    "df.drop_duplicates(subset=[\"country\", \"indicator\"], keep='first')\n",
    "df.shape"
   ]
  },
  {
   "cell_type": "code",
   "execution_count": 2406,
   "id": "a83a6db6-974b-4838-aa1f-f529331297ca",
   "metadata": {},
   "outputs": [],
   "source": [
    "# Choose dimensions and years to use for the forecast\n",
    "df = df[['country', 'indicator', \"2013\", \"2014\", \"2015\", \"2016\"]]"
   ]
  },
  {
   "cell_type": "code",
   "execution_count": 2407,
   "id": "95cc2984-24d7-4201-9c51-ddda6040f4d5",
   "metadata": {},
   "outputs": [
    {
     "data": {
      "text/html": [
       "<div>\n",
       "<style scoped>\n",
       "    .dataframe tbody tr th:only-of-type {\n",
       "        vertical-align: middle;\n",
       "    }\n",
       "\n",
       "    .dataframe tbody tr th {\n",
       "        vertical-align: top;\n",
       "    }\n",
       "\n",
       "    .dataframe thead th {\n",
       "        text-align: right;\n",
       "    }\n",
       "</style>\n",
       "<table border=\"1\" class=\"dataframe\">\n",
       "  <thead>\n",
       "    <tr style=\"text-align: right;\">\n",
       "      <th></th>\n",
       "      <th>country</th>\n",
       "      <th>indicator</th>\n",
       "      <th>year</th>\n",
       "      <th>value</th>\n",
       "    </tr>\n",
       "  </thead>\n",
       "  <tbody>\n",
       "    <tr>\n",
       "      <th>0</th>\n",
       "      <td>Afghanistan</td>\n",
       "      <td>Adjusted net enrolment rate, lower secondary, ...</td>\n",
       "      <td>2013</td>\n",
       "      <td>47.436790</td>\n",
       "    </tr>\n",
       "    <tr>\n",
       "      <th>1</th>\n",
       "      <td>Afghanistan</td>\n",
       "      <td>Adjusted net enrolment rate, lower secondary, ...</td>\n",
       "      <td>2014</td>\n",
       "      <td>50.627232</td>\n",
       "    </tr>\n",
       "    <tr>\n",
       "      <th>2</th>\n",
       "      <td>Afghanistan</td>\n",
       "      <td>Adjusted net enrolment rate, lower secondary, ...</td>\n",
       "      <td>2015</td>\n",
       "      <td>NaN</td>\n",
       "    </tr>\n",
       "    <tr>\n",
       "      <th>3</th>\n",
       "      <td>Afghanistan</td>\n",
       "      <td>Adjusted net enrolment rate, lower secondary, ...</td>\n",
       "      <td>2016</td>\n",
       "      <td>NaN</td>\n",
       "    </tr>\n",
       "    <tr>\n",
       "      <th>4</th>\n",
       "      <td>Afghanistan</td>\n",
       "      <td>Adjusted net enrolment rate, lower secondary, ...</td>\n",
       "      <td>2013</td>\n",
       "      <td>34.073261</td>\n",
       "    </tr>\n",
       "  </tbody>\n",
       "</table>\n",
       "</div>"
      ],
      "text/plain": [
       "       country                                          indicator  year  \\\n",
       "0  Afghanistan  Adjusted net enrolment rate, lower secondary, ...  2013   \n",
       "1  Afghanistan  Adjusted net enrolment rate, lower secondary, ...  2014   \n",
       "2  Afghanistan  Adjusted net enrolment rate, lower secondary, ...  2015   \n",
       "3  Afghanistan  Adjusted net enrolment rate, lower secondary, ...  2016   \n",
       "4  Afghanistan  Adjusted net enrolment rate, lower secondary, ...  2013   \n",
       "\n",
       "       value  \n",
       "0  47.436790  \n",
       "1  50.627232  \n",
       "2        NaN  \n",
       "3        NaN  \n",
       "4  34.073261  "
      ]
     },
     "execution_count": 2407,
     "metadata": {},
     "output_type": "execute_result"
    }
   ],
   "source": [
    "# Regroup all years columns into one\n",
    "df = pd.melt(df, id_vars=['country', 'indicator'], var_name=\"year\", value_name=\"value\")\n",
    "df = df.sort_values(by=['country', 'indicator', 'year']).reset_index(drop=True)\n",
    "\n",
    "df = df[~df['indicator'].str.contains(\"Wittgenstein Projection\")]\n",
    "\n",
    "df.head()"
   ]
  },
  {
   "cell_type": "code",
   "execution_count": 2408,
   "id": "ac46e7f2-5a63-4d25-b299-4966ca2bcb62",
   "metadata": {},
   "outputs": [
    {
     "data": {
      "text/html": [
       "<div>\n",
       "<style scoped>\n",
       "    .dataframe tbody tr th:only-of-type {\n",
       "        vertical-align: middle;\n",
       "    }\n",
       "\n",
       "    .dataframe tbody tr th {\n",
       "        vertical-align: top;\n",
       "    }\n",
       "\n",
       "    .dataframe thead th {\n",
       "        text-align: right;\n",
       "    }\n",
       "</style>\n",
       "<table border=\"1\" class=\"dataframe\">\n",
       "  <thead>\n",
       "    <tr style=\"text-align: right;\">\n",
       "      <th></th>\n",
       "      <th>country</th>\n",
       "      <th>year</th>\n",
       "      <th>Adjusted net enrolment rate, lower secondary, both sexes (%)</th>\n",
       "      <th>Adjusted net enrolment rate, lower secondary, female (%)</th>\n",
       "      <th>Adjusted net enrolment rate, lower secondary, gender parity index (GPI)</th>\n",
       "      <th>Adjusted net enrolment rate, lower secondary, male (%)</th>\n",
       "      <th>Adjusted net enrolment rate, primary, both sexes (%)</th>\n",
       "      <th>Adjusted net enrolment rate, primary, female (%)</th>\n",
       "      <th>Adjusted net enrolment rate, primary, gender parity index (GPI)</th>\n",
       "      <th>Adjusted net enrolment rate, primary, male (%)</th>\n",
       "      <th>...</th>\n",
       "      <th>Unemployment, male (% of male labor force)</th>\n",
       "      <th>Unemployment, total (% of total labor force)</th>\n",
       "      <th>Youth illiterate population, 15-24 years, % female</th>\n",
       "      <th>Youth illiterate population, 15-24 years, both sexes (number)</th>\n",
       "      <th>Youth illiterate population, 15-24 years, female (number)</th>\n",
       "      <th>Youth illiterate population, 15-24 years, male (number)</th>\n",
       "      <th>Youth literacy rate, population 15-24 years, both sexes (%)</th>\n",
       "      <th>Youth literacy rate, population 15-24 years, female (%)</th>\n",
       "      <th>Youth literacy rate, population 15-24 years, gender parity index (GPI)</th>\n",
       "      <th>Youth literacy rate, population 15-24 years, male (%)</th>\n",
       "    </tr>\n",
       "  </thead>\n",
       "  <tbody>\n",
       "    <tr>\n",
       "      <th>0</th>\n",
       "      <td>Afghanistan</td>\n",
       "      <td>2013</td>\n",
       "      <td>47.436790</td>\n",
       "      <td>34.073261</td>\n",
       "      <td>0.56706</td>\n",
       "      <td>60.087059</td>\n",
       "      <td>0.000000</td>\n",
       "      <td>0.000000</td>\n",
       "      <td>0.00000</td>\n",
       "      <td>0.000000</td>\n",
       "      <td>...</td>\n",
       "      <td>7.500000</td>\n",
       "      <td>8.4</td>\n",
       "      <td>0.0</td>\n",
       "      <td>0.0</td>\n",
       "      <td>0.0</td>\n",
       "      <td>0.0</td>\n",
       "      <td>0.0</td>\n",
       "      <td>0.0</td>\n",
       "      <td>0.0</td>\n",
       "      <td>0.0</td>\n",
       "    </tr>\n",
       "    <tr>\n",
       "      <th>1</th>\n",
       "      <td>Afghanistan</td>\n",
       "      <td>2014</td>\n",
       "      <td>50.627232</td>\n",
       "      <td>37.641541</td>\n",
       "      <td>0.59837</td>\n",
       "      <td>62.906952</td>\n",
       "      <td>0.000000</td>\n",
       "      <td>0.000000</td>\n",
       "      <td>0.00000</td>\n",
       "      <td>0.000000</td>\n",
       "      <td>...</td>\n",
       "      <td>7.700000</td>\n",
       "      <td>8.6</td>\n",
       "      <td>0.0</td>\n",
       "      <td>0.0</td>\n",
       "      <td>0.0</td>\n",
       "      <td>0.0</td>\n",
       "      <td>0.0</td>\n",
       "      <td>0.0</td>\n",
       "      <td>0.0</td>\n",
       "      <td>0.0</td>\n",
       "    </tr>\n",
       "    <tr>\n",
       "      <th>2</th>\n",
       "      <td>Afghanistan</td>\n",
       "      <td>2015</td>\n",
       "      <td>0.000000</td>\n",
       "      <td>0.000000</td>\n",
       "      <td>0.00000</td>\n",
       "      <td>0.000000</td>\n",
       "      <td>0.000000</td>\n",
       "      <td>0.000000</td>\n",
       "      <td>0.00000</td>\n",
       "      <td>0.000000</td>\n",
       "      <td>...</td>\n",
       "      <td>7.700000</td>\n",
       "      <td>8.6</td>\n",
       "      <td>0.0</td>\n",
       "      <td>0.0</td>\n",
       "      <td>0.0</td>\n",
       "      <td>0.0</td>\n",
       "      <td>0.0</td>\n",
       "      <td>0.0</td>\n",
       "      <td>0.0</td>\n",
       "      <td>0.0</td>\n",
       "    </tr>\n",
       "    <tr>\n",
       "      <th>3</th>\n",
       "      <td>Afghanistan</td>\n",
       "      <td>2016</td>\n",
       "      <td>0.000000</td>\n",
       "      <td>0.000000</td>\n",
       "      <td>0.00000</td>\n",
       "      <td>0.000000</td>\n",
       "      <td>0.000000</td>\n",
       "      <td>0.000000</td>\n",
       "      <td>0.00000</td>\n",
       "      <td>0.000000</td>\n",
       "      <td>...</td>\n",
       "      <td>7.700000</td>\n",
       "      <td>8.6</td>\n",
       "      <td>0.0</td>\n",
       "      <td>0.0</td>\n",
       "      <td>0.0</td>\n",
       "      <td>0.0</td>\n",
       "      <td>0.0</td>\n",
       "      <td>0.0</td>\n",
       "      <td>0.0</td>\n",
       "      <td>0.0</td>\n",
       "    </tr>\n",
       "    <tr>\n",
       "      <th>4</th>\n",
       "      <td>Albania</td>\n",
       "      <td>2013</td>\n",
       "      <td>87.666588</td>\n",
       "      <td>87.354607</td>\n",
       "      <td>0.99311</td>\n",
       "      <td>87.960289</td>\n",
       "      <td>95.912598</td>\n",
       "      <td>95.250214</td>\n",
       "      <td>0.98683</td>\n",
       "      <td>96.520988</td>\n",
       "      <td>...</td>\n",
       "      <td>17.299999</td>\n",
       "      <td>15.6</td>\n",
       "      <td>0.0</td>\n",
       "      <td>0.0</td>\n",
       "      <td>0.0</td>\n",
       "      <td>0.0</td>\n",
       "      <td>0.0</td>\n",
       "      <td>0.0</td>\n",
       "      <td>0.0</td>\n",
       "      <td>0.0</td>\n",
       "    </tr>\n",
       "  </tbody>\n",
       "</table>\n",
       "<p>5 rows × 3359 columns</p>\n",
       "</div>"
      ],
      "text/plain": [
       "       country  year  \\\n",
       "0  Afghanistan  2013   \n",
       "1  Afghanistan  2014   \n",
       "2  Afghanistan  2015   \n",
       "3  Afghanistan  2016   \n",
       "4      Albania  2013   \n",
       "\n",
       "   Adjusted net enrolment rate, lower secondary, both sexes (%)  \\\n",
       "0                                          47.436790              \n",
       "1                                          50.627232              \n",
       "2                                           0.000000              \n",
       "3                                           0.000000              \n",
       "4                                          87.666588              \n",
       "\n",
       "   Adjusted net enrolment rate, lower secondary, female (%)  \\\n",
       "0                                          34.073261          \n",
       "1                                          37.641541          \n",
       "2                                           0.000000          \n",
       "3                                           0.000000          \n",
       "4                                          87.354607          \n",
       "\n",
       "   Adjusted net enrolment rate, lower secondary, gender parity index (GPI)  \\\n",
       "0                                            0.56706                         \n",
       "1                                            0.59837                         \n",
       "2                                            0.00000                         \n",
       "3                                            0.00000                         \n",
       "4                                            0.99311                         \n",
       "\n",
       "   Adjusted net enrolment rate, lower secondary, male (%)  \\\n",
       "0                                          60.087059        \n",
       "1                                          62.906952        \n",
       "2                                           0.000000        \n",
       "3                                           0.000000        \n",
       "4                                          87.960289        \n",
       "\n",
       "   Adjusted net enrolment rate, primary, both sexes (%)  \\\n",
       "0                                           0.000000      \n",
       "1                                           0.000000      \n",
       "2                                           0.000000      \n",
       "3                                           0.000000      \n",
       "4                                          95.912598      \n",
       "\n",
       "   Adjusted net enrolment rate, primary, female (%)  \\\n",
       "0                                          0.000000   \n",
       "1                                          0.000000   \n",
       "2                                          0.000000   \n",
       "3                                          0.000000   \n",
       "4                                         95.250214   \n",
       "\n",
       "   Adjusted net enrolment rate, primary, gender parity index (GPI)  \\\n",
       "0                                            0.00000                 \n",
       "1                                            0.00000                 \n",
       "2                                            0.00000                 \n",
       "3                                            0.00000                 \n",
       "4                                            0.98683                 \n",
       "\n",
       "   Adjusted net enrolment rate, primary, male (%)  ...  \\\n",
       "0                                        0.000000  ...   \n",
       "1                                        0.000000  ...   \n",
       "2                                        0.000000  ...   \n",
       "3                                        0.000000  ...   \n",
       "4                                       96.520988  ...   \n",
       "\n",
       "   Unemployment, male (% of male labor force)  \\\n",
       "0                                    7.500000   \n",
       "1                                    7.700000   \n",
       "2                                    7.700000   \n",
       "3                                    7.700000   \n",
       "4                                   17.299999   \n",
       "\n",
       "   Unemployment, total (% of total labor force)  \\\n",
       "0                                           8.4   \n",
       "1                                           8.6   \n",
       "2                                           8.6   \n",
       "3                                           8.6   \n",
       "4                                          15.6   \n",
       "\n",
       "   Youth illiterate population, 15-24 years, % female  \\\n",
       "0                                                0.0    \n",
       "1                                                0.0    \n",
       "2                                                0.0    \n",
       "3                                                0.0    \n",
       "4                                                0.0    \n",
       "\n",
       "   Youth illiterate population, 15-24 years, both sexes (number)  \\\n",
       "0                                                0.0               \n",
       "1                                                0.0               \n",
       "2                                                0.0               \n",
       "3                                                0.0               \n",
       "4                                                0.0               \n",
       "\n",
       "   Youth illiterate population, 15-24 years, female (number)  \\\n",
       "0                                                0.0           \n",
       "1                                                0.0           \n",
       "2                                                0.0           \n",
       "3                                                0.0           \n",
       "4                                                0.0           \n",
       "\n",
       "   Youth illiterate population, 15-24 years, male (number)  \\\n",
       "0                                                0.0         \n",
       "1                                                0.0         \n",
       "2                                                0.0         \n",
       "3                                                0.0         \n",
       "4                                                0.0         \n",
       "\n",
       "   Youth literacy rate, population 15-24 years, both sexes (%)  \\\n",
       "0                                                0.0             \n",
       "1                                                0.0             \n",
       "2                                                0.0             \n",
       "3                                                0.0             \n",
       "4                                                0.0             \n",
       "\n",
       "   Youth literacy rate, population 15-24 years, female (%)  \\\n",
       "0                                                0.0         \n",
       "1                                                0.0         \n",
       "2                                                0.0         \n",
       "3                                                0.0         \n",
       "4                                                0.0         \n",
       "\n",
       "   Youth literacy rate, population 15-24 years, gender parity index (GPI)  \\\n",
       "0                                                0.0                        \n",
       "1                                                0.0                        \n",
       "2                                                0.0                        \n",
       "3                                                0.0                        \n",
       "4                                                0.0                        \n",
       "\n",
       "   Youth literacy rate, population 15-24 years, male (%)  \n",
       "0                                                0.0      \n",
       "1                                                0.0      \n",
       "2                                                0.0      \n",
       "3                                                0.0      \n",
       "4                                                0.0      \n",
       "\n",
       "[5 rows x 3359 columns]"
      ]
     },
     "execution_count": 2408,
     "metadata": {},
     "output_type": "execute_result"
    }
   ],
   "source": [
    "# Divide all values in indicator column to create new columns\n",
    "df = df.pivot_table(index=['country', 'year'], columns='indicator', values='value', aggfunc='sum').reset_index()\n",
    "# Renaming columns for clarity\n",
    "df.columns.name = None\n",
    "df.head()"
   ]
  },
  {
   "cell_type": "code",
   "execution_count": 2409,
   "id": "d93fcbb6-394f-400f-8b9f-0d6fecdfc430",
   "metadata": {},
   "outputs": [],
   "source": [
    "# Delete all values in the country column that are not countries\n",
    "non_countries = [\n",
    "    'Arab World',\n",
    "    'East Asia & Pacific',\n",
    "    'East Asia & Pacific (excluding high income)',\n",
    "    'Euro area',\n",
    "    'Europe & Central Asia',\n",
    "    'Europe & Central Asia (excluding high income)',\n",
    "    'European Union',\n",
    "    'Heavily indebted poor countries (HIPC)',\n",
    "    'High income',\n",
    "    'Latin America & Caribbean',\n",
    "    'Latin America & Caribbean (excluding high income)',\n",
    "    'Least developed countries: UN classification',\n",
    "    'Low & middle income',\n",
    "    'Low income',\n",
    "    'Lower middle income',\n",
    "    'Middle East & North Africa',\n",
    "    'Middle East & North Africa (excluding high income)',\n",
    "    'Middle income',\n",
    "    'North America',\n",
    "    'OECD members',\n",
    "    'South Asia',\n",
    "    'Sub-Saharan Africa',\n",
    "    'Sub-Saharan Africa (excluding high income)',\n",
    "    'Upper middle income',\n",
    "    'World'\n",
    " ]\n",
    "df =  df[~df[\"country\"].isin(non_countries)]"
   ]
  },
  {
   "cell_type": "code",
   "execution_count": 2410,
   "id": "141ac5bb-2eae-4a02-9d3f-ab0b514cbb01",
   "metadata": {},
   "outputs": [],
   "source": [
    "# Delete countries with no data\n",
    "\n",
    "df_grouped_by_country = df.groupby(['country']).sum().reset_index()\n",
    "countries_with_no_data = []\n",
    "\n",
    "# Iterate over each row in the DataFrame\n",
    "for index, row in df_grouped_by_country.iterrows():\n",
    "    # Check if all indicator columns are 0\n",
    "    if (row.drop(['country', 'year']) == 0).all():\n",
    "        countries_with_no_data.append(row['country'])\n",
    "\n",
    "df =  df[~df[\"country\"].isin(countries_with_no_data)]"
   ]
  },
  {
   "cell_type": "code",
   "execution_count": 2411,
   "id": "e057be4a-f1e1-4a50-9302-ba2d69b1e113",
   "metadata": {},
   "outputs": [],
   "source": [
    "# Calculate for each columns the mean of values that equal to 0.\n",
    "# Sort the result in order to select columns with a rate of 50% or less\n",
    "pd.set_option('display.max_rows', None)\n",
    "zero_proportion = df.eq(0).mean().sort_values(ascending=True)"
   ]
  },
  {
   "cell_type": "code",
   "execution_count": 2412,
   "id": "bef4161e-4e5f-443d-8679-08bfa19b0037",
   "metadata": {},
   "outputs": [],
   "source": [
    "historical_dimensions = [\n",
    "    'Population growth (annual %)',\n",
    "    'Population, total',\n",
    "    'Internet users (per 100 people)',\n",
    "    'GDP per capita (current US$)',\n",
    "    'GDP, PPP (current international $)',\n",
    "    'Population, ages 4-6, total',\n",
    "    'Population, ages 6-10, total',\n",
    "    'Population, ages 10-16, total',\n",
    "]\n",
    "dimensions = ['country', 'year'] + historical_dimensions"
   ]
  },
  {
   "cell_type": "code",
   "execution_count": 2413,
   "id": "055cba5a-6b15-4e53-99f5-f76b87b483cc",
   "metadata": {},
   "outputs": [],
   "source": [
    "df = df[dimensions]"
   ]
  },
  {
   "cell_type": "code",
   "execution_count": 2414,
   "id": "4a0772a1-38d3-4924-9009-086970355ad0",
   "metadata": {},
   "outputs": [
    {
     "data": {
      "text/plain": [
       "<Axes: >"
      ]
     },
     "execution_count": 2414,
     "metadata": {},
     "output_type": "execute_result"
    },
    {
     "data": {
      "image/png": "[encoded data removed]",
      "text/plain": [
       "<Figure size 2500x1000 with 2 Axes>"
      ]
     },
     "metadata": {},
     "output_type": "display_data"
    }
   ],
   "source": [
    "import missingno as msno\n",
    "import numpy as np\n",
    "df.replace(0, np.nan, inplace=True)\n",
    "\n",
    "%matplotlib inline\n",
    "msno.matrix(df.sample(664))"
   ]
  },
  {
   "cell_type": "code",
   "execution_count": null,
   "id": "d6d155fc-40a7-457e-a5be-0480ac28285e",
   "metadata": {},
   "outputs": [],
   "source": []
  }
 ],
 "metadata": {
  "kernelspec": {
   "display_name": "Python 3 (ipykernel)",
   "language": "python",
   "name": "python3"
  },
  "language_info": {
   "codemirror_mode": {
    "name": "ipython",
    "version": 3
   },
   "file_extension": ".py",
   "mimetype": "text/x-python",
   "name": "python",
   "nbconvert_exporter": "python",
   "pygments_lexer": "ipython3",
   "version": "3.12.3"
  }
 },
 "nbformat": 4,
 "nbformat_minor": 5
}
